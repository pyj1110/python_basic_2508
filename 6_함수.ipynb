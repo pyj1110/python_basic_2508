{
 "cells": [
  {
   "cell_type": "markdown",
   "id": "ef33767a-3fc7-4d6d-a573-3e614293f72f",
   "metadata": {},
   "source": [
    "## 1. 파이썬 함수"
   ]
  },
  {
   "cell_type": "code",
   "execution_count": 5,
   "id": "19dfd448-3987-4cd7-8e72-927d8643104d",
   "metadata": {},
   "outputs": [
    {
     "name": "stdout",
     "output_type": "stream",
     "text": [
      "7\n",
      "333\n"
     ]
    }
   ],
   "source": [
    "def add(a,b):\n",
    "    return a+b\n",
    "\n",
    "a,b = 3,4\n",
    "c = add(a,b)\n",
    "print(c)\n",
    "\n",
    "d = add(111, 222)\n",
    "print(d)"
   ]
  },
  {
   "cell_type": "code",
   "execution_count": 7,
   "id": "a4639090-f515-4583-b789-1da5b2cfe8e8",
   "metadata": {},
   "outputs": [
    {
     "name": "stdout",
     "output_type": "stream",
     "text": [
      "6\n"
     ]
    }
   ],
   "source": [
    "# 1. 애개변수 O, 리턴값 O\n",
    "def minus(a,b):\n",
    "    result = a - b\n",
    "    return result\n",
    "\n",
    "a = minus(10,4)\n",
    "print(a)    "
   ]
  },
  {
   "cell_type": "code",
   "execution_count": 8,
   "id": "16abfeb3-dea2-4a46-a915-1d96af3fb9dd",
   "metadata": {},
   "outputs": [
    {
     "name": "stdout",
     "output_type": "stream",
     "text": [
      "Hi!\n"
     ]
    }
   ],
   "source": [
    "# 2. 매개변수 X, 리턴값 O\n",
    "def say():\n",
    "    return 'Hi!'\n",
    "\n",
    "print(say())"
   ]
  },
  {
   "cell_type": "code",
   "execution_count": 10,
   "id": "39acc690-6aa5-46d8-832e-d7bb224fcd4f",
   "metadata": {},
   "outputs": [
    {
     "name": "stdout",
     "output_type": "stream",
     "text": [
      "12, 24의 합은 36입니다.\n",
      "3, 4의 합은 7입니다.\n",
      "None\n"
     ]
    }
   ],
   "source": [
    "# 3. 매개변수 O, 리턴값 X\n",
    "def add(x,y):\n",
    "    print(\"%d, %d의 합은 %d입니다.\"%(x,y,x+y))\n",
    "\n",
    "add(12,24)\n",
    "\n",
    "a = add(3,4)\n",
    "print(a)"
   ]
  },
  {
   "cell_type": "code",
   "execution_count": 11,
   "id": "8c9fc299-38a4-4107-8e2e-533bd147267f",
   "metadata": {},
   "outputs": [
    {
     "name": "stdout",
     "output_type": "stream",
     "text": [
      "Hi~\n"
     ]
    }
   ],
   "source": [
    "# 4. 매개변수 X, 리턴값 X\n",
    "def say():\n",
    "    print('Hi~')\n",
    "\n",
    "say()"
   ]
  },
  {
   "cell_type": "code",
   "execution_count": 14,
   "id": "34d0dca1-0ef6-4165-8a38-11c3a28b7a70",
   "metadata": {},
   "outputs": [
    {
     "name": "stdout",
     "output_type": "stream",
     "text": [
      "4\n",
      "4\n"
     ]
    }
   ],
   "source": [
    "# 키워드 매개변수\n",
    "def sub(a, b):\n",
    "    return a - b\n",
    "    \n",
    "result = sub(7, 3)\n",
    "print(result)\n",
    "\n",
    "result2 = sub(b=3, a=7)\n",
    "print(result2)"
   ]
  },
  {
   "cell_type": "code",
   "execution_count": 16,
   "id": "486986d0-c0c7-4597-aa1e-6ebf31483e55",
   "metadata": {},
   "outputs": [
    {
     "name": "stdout",
     "output_type": "stream",
     "text": [
      "15\n",
      "55\n"
     ]
    }
   ],
   "source": [
    "# 가변 매개변수(*매개변수명)\n",
    "def add_many(*args):\n",
    "    result = 0\n",
    "    for i in args:\n",
    "        result += i\n",
    "    return result\n",
    "\n",
    "res1 =add_many(1,2,3,4,5)\n",
    "print(res1)\n",
    "\n",
    "res2 = add_many(1,2,3,4,5,6,7,8,9,10)\n",
    "print(res2)"
   ]
  },
  {
   "cell_type": "code",
   "execution_count": 20,
   "id": "9ae46445-4c56-4b37-88cf-fcbe68deabbc",
   "metadata": {},
   "outputs": [
    {
     "name": "stdout",
     "output_type": "stream",
     "text": [
      "6\n",
      "6\n"
     ]
    }
   ],
   "source": [
    "# 덧셈, 곱셈 둘다 연산 가능한 함수\n",
    "def add_mul(choice, *args):\n",
    "    if choice == 'add':\n",
    "        result = 0\n",
    "        for i in args:\n",
    "            result += i\n",
    "    elif choice == 'mul':\n",
    "        result = 1\n",
    "        for i in args:\n",
    "            result *= i\n",
    "    return result\n",
    "\n",
    "res1 = add_mul('add',1,2,3)\n",
    "print(res1)\n",
    "\n",
    "res2 = add_mul('mul',1,2,3)\n",
    "print(res2)"
   ]
  },
  {
   "cell_type": "code",
   "execution_count": 23,
   "id": "49012571-1d67-4d7f-b41d-18d72c113610",
   "metadata": {},
   "outputs": [
    {
     "name": "stdout",
     "output_type": "stream",
     "text": [
      "{'a': 1}\n",
      "{'name': 'foo', 'age': 3}\n"
     ]
    }
   ],
   "source": [
    "# 키워드 가변 매개변수(**매개변수\n",
    "def print_kwargs(**kwargs):\n",
    "    print(kwargs)\n",
    "\n",
    "print_kwargs(a=1)\n",
    "\n",
    "print_kwargs(name='foo', age=3)"
   ]
  },
  {
   "cell_type": "code",
   "execution_count": 25,
   "id": "76eb3f99-b864-46ae-8b9a-6c1e4ca3ff65",
   "metadata": {},
   "outputs": [
    {
     "name": "stdout",
     "output_type": "stream",
     "text": [
      "(7, 12)\n",
      "a+b = 7\n",
      "a*b = 12\n"
     ]
    }
   ],
   "source": [
    "# 함수의 리턴값은 하나!!\n",
    "def add_and_mul(a,b):\n",
    "    return a+b, a*b\n",
    "\n",
    "res = add_and_mul(3,4)\n",
    "print(res)\n",
    "\n",
    "res1, res2 = add_and_mul(3,4)\n",
    "print(\"a+b =\",res1)\n",
    "print(\"a*b =\",res2)"
   ]
  },
  {
   "cell_type": "code",
   "execution_count": 26,
   "id": "e7d5cd85-5158-424e-a9f2-32d918dd897a",
   "metadata": {},
   "outputs": [
    {
     "name": "stdout",
     "output_type": "stream",
     "text": [
      "5\n"
     ]
    }
   ],
   "source": [
    "def add_and_mul(a,b):\n",
    "    return a+b\n",
    "    return a*b\n",
    "\n",
    "res = add_and_mul(2,3)\n",
    "print(res)"
   ]
  },
  {
   "cell_type": "code",
   "execution_count": 28,
   "id": "679da09d-4cf5-4e9d-a1a2-4c1e151edb46",
   "metadata": {},
   "outputs": [
    {
     "name": "stdout",
     "output_type": "stream",
     "text": [
      "나의 별명은 야호 입니다.\n"
     ]
    }
   ],
   "source": [
    "# return의 또 다른 쓰임새\n",
    "def say_nick(nick):\n",
    "    if nick == \"바보\":\n",
    "        return\n",
    "    print(\"나의 별명은 %s 입니다.\"%nick)\n",
    "\n",
    "say_nick('야호')\n",
    "say_nick('바보')"
   ]
  },
  {
   "cell_type": "code",
   "execution_count": 30,
   "id": "2b911f90-8b9e-4fa0-88ef-ac2b73d9a5a9",
   "metadata": {},
   "outputs": [
    {
     "name": "stdout",
     "output_type": "stream",
     "text": [
      "나의 이름은 홍길동입니다.\n",
      "나이는 28살 입니다.\n",
      "남자입니다.\n",
      "나의 이름은 박유진입니다.\n",
      "나이는 28살 입니다.\n",
      "여자입니다.\n"
     ]
    }
   ],
   "source": [
    "# 매개변수에 초기값 설정\n",
    "def say_myself(name, age, man=True):\n",
    "    print(f\"나의 이름은 {name}입니다.\")\n",
    "    print(f\"나이는 {age}살 입니다.\")\n",
    "    if man:\n",
    "        print(\"남자입니다.\")\n",
    "    else:\n",
    "        print(\"여자입니다.\")\n",
    "        \n",
    "# 함수 호출\n",
    "say_myself('홍길동', 28)\n",
    "\n",
    "say_myself('박유진', 28, False)"
   ]
  },
  {
   "cell_type": "code",
   "execution_count": 34,
   "id": "1c20ed08-642d-4289-a0ea-95e6f15aebd3",
   "metadata": {},
   "outputs": [
    {
     "ename": "SyntaxError",
     "evalue": "parameter without a default follows parameter with a default (1598933852.py, line 2)",
     "output_type": "error",
     "traceback": [
      "\u001b[1;36m  Cell \u001b[1;32mIn[34], line 2\u001b[1;36m\u001b[0m\n\u001b[1;33m    def say_myself(name, man=True, age):\u001b[0m\n\u001b[1;37m                                   ^\u001b[0m\n\u001b[1;31mSyntaxError\u001b[0m\u001b[1;31m:\u001b[0m parameter without a default follows parameter with a default\n"
     ]
    }
   ],
   "source": [
    "# 매개변수에 초기값 설정\n",
    "def say_myself(name, man=True, age):\n",
    "    print(f\"나의 이름은 {name}입니다.\")\n",
    "    print(f\"나이는 {age}살 입니다.\")\n",
    "    if man:\n",
    "        print(\"남자입니다.\")\n",
    "    else:\n",
    "        print(\"여자입니다.\")\n",
    "        \n",
    "# 함수 호출\n",
    "say_myself('홍길동', 28)"
   ]
  },
  {
   "cell_type": "code",
   "execution_count": 40,
   "id": "fa1cc6b8-c986-4706-86d6-2e91e032c4f2",
   "metadata": {},
   "outputs": [
    {
     "name": "stdout",
     "output_type": "stream",
     "text": [
      "1\n"
     ]
    }
   ],
   "source": [
    "# 함수의 유효범위\n",
    "a = 1\n",
    "def vartest(a):\n",
    "    a = a+1\n",
    "    \n",
    "vartest(a) # 아무것도 실행 안됨\n",
    "print(a) # 함수 밖에 있는 a출력됨"
   ]
  },
  {
   "cell_type": "code",
   "execution_count": 42,
   "id": "db94cd0c-e990-485e-8222-c352ddabcaff",
   "metadata": {},
   "outputs": [
    {
     "name": "stdout",
     "output_type": "stream",
     "text": [
      "2\n"
     ]
    }
   ],
   "source": [
    "# 함수의 유효범위 => 1. return 사용하기\n",
    "a = 1\n",
    "def vartest(x):\n",
    "    x = x+1\n",
    "    return x\n",
    "    \n",
    "a = vartest(a) # 함수 실행하면 x값 반환되고 a변수에 덮어씀.\n",
    "print(a)"
   ]
  },
  {
   "cell_type": "code",
   "execution_count": 44,
   "id": "c274da87-5d6e-4bc5-b34e-9e48d9396800",
   "metadata": {},
   "outputs": [
    {
     "name": "stdout",
     "output_type": "stream",
     "text": [
      "2\n"
     ]
    }
   ],
   "source": [
    "# 함수의 유효범위 => 2. global 명령어 사용하기\n",
    "a = 1\n",
    "def vartest():\n",
    "    global a # 함수 안에서 a는 전역변수로 변경됨\n",
    "    a += 1\n",
    "\n",
    "vartest()\n",
    "print(a)"
   ]
  },
  {
   "cell_type": "code",
   "execution_count": 45,
   "id": "d34dd3da-3e17-453f-bfcb-d325ba37c949",
   "metadata": {},
   "outputs": [
    {
     "name": "stdout",
     "output_type": "stream",
     "text": [
      "7\n"
     ]
    }
   ],
   "source": [
    "# lambda 표현식(예약어) 사용 안하고 함수 선언\n",
    "def add(a,b):\n",
    "    return a+b\n",
    "\n",
    "print(add(3,4))"
   ]
  },
  {
   "cell_type": "code",
   "execution_count": 46,
   "id": "47a4dd3b-194d-4396-af7d-cc8ac8cc5f3f",
   "metadata": {},
   "outputs": [
    {
     "name": "stdout",
     "output_type": "stream",
     "text": [
      "7\n"
     ]
    }
   ],
   "source": [
    "# lambda 표현식(예약어) 사용하여 표현\n",
    "add = lambda a,b : a+b\n",
    "print(add(3,4))"
   ]
  },
  {
   "cell_type": "markdown",
   "id": "ce9c31c3-a920-40be-a189-b8f61bfc7824",
   "metadata": {},
   "source": [
    "## 2. 함수의 활용"
   ]
  },
  {
   "cell_type": "markdown",
   "id": "0e3076a3-e58b-434c-85fb-b6ea0f8a5aa4",
   "metadata": {},
   "source": [
    "#### 1) 재귀함수\n",
    ": 내가 만든 함수를 다시 호출하는 것"
   ]
  },
  {
   "cell_type": "code",
   "execution_count": 47,
   "id": "67eb61b7-563e-4c2e-92bd-f23889eec571",
   "metadata": {},
   "outputs": [
    {
     "name": "stdout",
     "output_type": "stream",
     "text": [
      "5! =  120\n"
     ]
    }
   ],
   "source": [
    "# 반복문으로 팩토리얼 구하기\n",
    "def factorial(n):\n",
    "    output = 1\n",
    "    for i in range(1, n+1):\n",
    "        output *= i\n",
    "    return output\n",
    "print('5! = ', factorial(5))"
   ]
  },
  {
   "cell_type": "code",
   "execution_count": 48,
   "id": "4bb99d57-a1d6-494e-bbd8-bec01bb67284",
   "metadata": {},
   "outputs": [
    {
     "name": "stdout",
     "output_type": "stream",
     "text": [
      "5! =  120\n"
     ]
    }
   ],
   "source": [
    "# 재귀함수로 팩토리얼 구하기\n",
    "def factorial(n):\n",
    "    if n == 0:\n",
    "        return 1\n",
    "    else:\n",
    "        return n * factorial(n-1)\n",
    "        \n",
    "print ('5! = ', factorial(5))"
   ]
  },
  {
   "cell_type": "markdown",
   "id": "10b809f9-0ae5-4202-9d86-99aa61dade92",
   "metadata": {},
   "source": [
    "#### 2) 리스트 평탄화하는 재귀함수 만들기"
   ]
  },
  {
   "cell_type": "code",
   "execution_count": 52,
   "id": "a8ff0520-19ab-4da4-9ba0-26c898b867ad",
   "metadata": {},
   "outputs": [
    {
     "name": "stdout",
     "output_type": "stream",
     "text": [
      "4\n",
      "원본 :  [[1, 2, 3], [4, [5, 6]], 7, [8, 9]]\n",
      "평탄화:  [1, 2, 3, 4, [5, 6], 7, 8, 9]\n"
     ]
    }
   ],
   "source": [
    "# 반복문으로 리스트 평탄화\n",
    "def flatten(data):\n",
    "    output = []\n",
    "    for item in data:\n",
    "        if type(item) == list:\n",
    "            output += item\n",
    "             # print(output)\n",
    "        else:\n",
    "            output.append(item)\n",
    "    return output\n",
    "\n",
    "example = [[1,2,3], [4, [5,6]], 7, [8,9]]\n",
    "print(len(example))\n",
    "print('원본 : ' , example)\n",
    "print('평탄화: ', flatten(example))"
   ]
  },
  {
   "cell_type": "code",
   "execution_count": 53,
   "id": "f5c6f73c-91a4-45de-9997-4b664f853ee2",
   "metadata": {},
   "outputs": [
    {
     "name": "stdout",
     "output_type": "stream",
     "text": [
      "원본 :  [[1, 2, 3], [4, [5, 6]], 7, [8, 9]]\n",
      "평탄화:  [1, 2, 3, 4, 5, 6, 7, 8, 9]\n"
     ]
    }
   ],
   "source": [
    "# 재귀 함수로 리스트 평탄화\n",
    "def flatten(data):\n",
    "    output = []\n",
    "    for item in data:\n",
    "        if type(item) == list:\n",
    "            output += flatten(item)\n",
    "             # print(output)\n",
    "        else:\n",
    "            output.append(item)\n",
    "    return output\n",
    "\n",
    "example = [[1,2,3], [4, [5,6]], 7, [8,9]]\n",
    "print('원본 : ' , example)\n",
    "print('평탄화: ', flatten(example))"
   ]
  },
  {
   "cell_type": "code",
   "execution_count": null,
   "id": "acbc1ada-d48d-4d94-9dc7-b6eefd4b27ba",
   "metadata": {},
   "outputs": [],
   "source": []
  }
 ],
 "metadata": {
  "kernelspec": {
   "display_name": "Python 3 (ipykernel)",
   "language": "python",
   "name": "python3"
  },
  "language_info": {
   "codemirror_mode": {
    "name": "ipython",
    "version": 3
   },
   "file_extension": ".py",
   "mimetype": "text/x-python",
   "name": "python",
   "nbconvert_exporter": "python",
   "pygments_lexer": "ipython3",
   "version": "3.13.5"
  }
 },
 "nbformat": 4,
 "nbformat_minor": 5
}
