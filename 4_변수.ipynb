{
 "cells": [
  {
   "cell_type": "markdown",
   "id": "3b94975b-f888-4e03-880c-1a043ffea096",
   "metadata": {},
   "source": [
    "#  1. 변수란?"
   ]
  },
  {
   "cell_type": "code",
   "execution_count": 1,
   "id": "80790eec-7f17-46df-a540-1d8092220a38",
   "metadata": {},
   "outputs": [
    {
     "data": {
      "text/plain": [
       "2764056959744"
      ]
     },
     "execution_count": 1,
     "metadata": {},
     "output_type": "execute_result"
    }
   ],
   "source": [
    "a = [1,2,3]\n",
    "id(a)"
   ]
  },
  {
   "cell_type": "code",
   "execution_count": 2,
   "id": "c7d3fb41-c405-4aed-8403-dc0c52c01525",
   "metadata": {},
   "outputs": [
    {
     "data": {
      "text/plain": [
       "[1, 2, 3]"
      ]
     },
     "execution_count": 2,
     "metadata": {},
     "output_type": "execute_result"
    }
   ],
   "source": [
    "a"
   ]
  },
  {
   "cell_type": "markdown",
   "id": "bf38df11-da5e-4999-88e7-1b891c7e0541",
   "metadata": {},
   "source": [
    "## 2. 리스트를 복사"
   ]
  },
  {
   "cell_type": "code",
   "execution_count": 4,
   "id": "3a5ae5c3-449d-4586-939c-371b2452021a",
   "metadata": {},
   "outputs": [
    {
     "data": {
      "text/plain": [
       "[1, 2, 3]"
      ]
     },
     "execution_count": 4,
     "metadata": {},
     "output_type": "execute_result"
    }
   ],
   "source": [
    "b = a\n",
    "b"
   ]
  },
  {
   "cell_type": "code",
   "execution_count": 5,
   "id": "d77467c8-4def-440d-9886-86b648a40759",
   "metadata": {},
   "outputs": [
    {
     "name": "stdout",
     "output_type": "stream",
     "text": [
      "2764056959744\n",
      "2764056959744\n"
     ]
    }
   ],
   "source": [
    "print(id(a))\n",
    "print(id(b))"
   ]
  },
  {
   "cell_type": "code",
   "execution_count": 6,
   "id": "09836784-b78f-423d-b3c8-ba2c10a3ce4c",
   "metadata": {},
   "outputs": [
    {
     "data": {
      "text/plain": [
       "[1, 4, 3]"
      ]
     },
     "execution_count": 6,
     "metadata": {},
     "output_type": "execute_result"
    }
   ],
   "source": [
    "a[1] = 4\n",
    "a"
   ]
  },
  {
   "cell_type": "code",
   "execution_count": 7,
   "id": "e8e9897a-34ad-48e4-a407-33d933c2c0e0",
   "metadata": {},
   "outputs": [
    {
     "data": {
      "text/plain": [
       "[1, 4, 3]"
      ]
     },
     "execution_count": 7,
     "metadata": {},
     "output_type": "execute_result"
    }
   ],
   "source": [
    "b"
   ]
  },
  {
   "cell_type": "code",
   "execution_count": 8,
   "id": "92d7fd95-1c1c-46f1-a002-77da8d799840",
   "metadata": {},
   "outputs": [
    {
     "data": {
      "text/plain": [
       "True"
      ]
     },
     "execution_count": 8,
     "metadata": {},
     "output_type": "execute_result"
    }
   ],
   "source": [
    "a is b"
   ]
  },
  {
   "cell_type": "markdown",
   "id": "4abbc9ca-e375-48b1-b54b-ce38550e4cc4",
   "metadata": {},
   "source": [
    "### b변수 생성할 때 a 변수의 값을 가져오면 a와는 다른 주소를 가르키도록 하려면?"
   ]
  },
  {
   "cell_type": "code",
   "execution_count": 9,
   "id": "8d62d5ae-9baf-4a3d-9ee4-ec18eaa14c20",
   "metadata": {},
   "outputs": [
    {
     "data": {
      "text/plain": [
       "[1, 2, 3]"
      ]
     },
     "execution_count": 9,
     "metadata": {},
     "output_type": "execute_result"
    }
   ],
   "source": [
    "# [:] 이용하기\n",
    "a = [1,2,3]\n",
    "b = a[:]\n",
    "b"
   ]
  },
  {
   "cell_type": "code",
   "execution_count": 13,
   "id": "5742a3fd-8af3-4649-9885-132ccff49f46",
   "metadata": {},
   "outputs": [
    {
     "data": {
      "text/plain": [
       "[1, 4, 3]"
      ]
     },
     "execution_count": 13,
     "metadata": {},
     "output_type": "execute_result"
    }
   ],
   "source": [
    "a[1] = 4\n",
    "a"
   ]
  },
  {
   "cell_type": "code",
   "execution_count": 11,
   "id": "31c69129-1965-4ebb-a87d-2556c8566de1",
   "metadata": {},
   "outputs": [
    {
     "data": {
      "text/plain": [
       "[1, 2, 3]"
      ]
     },
     "execution_count": 11,
     "metadata": {},
     "output_type": "execute_result"
    }
   ],
   "source": [
    "b"
   ]
  },
  {
   "cell_type": "code",
   "execution_count": 12,
   "id": "687936e1-4a1d-4c28-a22a-c1e26f42a2ec",
   "metadata": {},
   "outputs": [
    {
     "name": "stdout",
     "output_type": "stream",
     "text": [
      "2764056098944\n",
      "2764057040512\n"
     ]
    }
   ],
   "source": [
    "print(id(a))\n",
    "print(id(b))"
   ]
  },
  {
   "cell_type": "code",
   "execution_count": 14,
   "id": "1cfc455f-2548-44c2-9f1d-d87ad9221929",
   "metadata": {},
   "outputs": [
    {
     "data": {
      "text/plain": [
       "[1, 2, 3]"
      ]
     },
     "execution_count": 14,
     "metadata": {},
     "output_type": "execute_result"
    }
   ],
   "source": [
    "# copy모듈 이용하기\n",
    "from copy import copy\n",
    "a = [1,2,3]\n",
    "b = copy(a)\n",
    "b"
   ]
  },
  {
   "cell_type": "code",
   "execution_count": 15,
   "id": "90022fd7-924f-4f74-b077-e4fc461461c0",
   "metadata": {},
   "outputs": [
    {
     "data": {
      "text/plain": [
       "False"
      ]
     },
     "execution_count": 15,
     "metadata": {},
     "output_type": "execute_result"
    }
   ],
   "source": [
    "b is a"
   ]
  },
  {
   "cell_type": "code",
   "execution_count": 16,
   "id": "44e6620f-3bf9-4eed-8926-54a137612aae",
   "metadata": {},
   "outputs": [
    {
     "name": "stdout",
     "output_type": "stream",
     "text": [
      "[1, 2, 5]\n",
      "[1, 2, 3]\n",
      "2764057013824\n",
      "2764056370688\n"
     ]
    }
   ],
   "source": [
    "a[2]=5\n",
    "print(a)\n",
    "print(b)\n",
    "print(id(a))\n",
    "print(id(b))"
   ]
  },
  {
   "cell_type": "code",
   "execution_count": 17,
   "id": "a5ab57a7-5929-4467-bcd7-5f7bcd40a9f5",
   "metadata": {},
   "outputs": [
    {
     "data": {
      "text/plain": [
       "False"
      ]
     },
     "execution_count": 17,
     "metadata": {},
     "output_type": "execute_result"
    }
   ],
   "source": [
    "# 리스트의 copy함수 이용\n",
    "a = [1,2,3]\n",
    "b = a.copy()\n",
    "b is a"
   ]
  },
  {
   "cell_type": "markdown",
   "id": "3045a92c-c2f8-47c0-abb6-334e88bc2144",
   "metadata": {},
   "source": [
    "## 3. 변수 만드는 여러가지 방법"
   ]
  },
  {
   "cell_type": "code",
   "execution_count": 18,
   "id": "fa9d2c30-d3e9-406e-89ea-f6d4eefacab1",
   "metadata": {},
   "outputs": [
    {
     "name": "stdout",
     "output_type": "stream",
     "text": [
      "python\n",
      "life\n"
     ]
    }
   ],
   "source": [
    "# 튜플로 만들기\n",
    "a, b = ('python', 'life')\n",
    "print(a)\n",
    "print(b)"
   ]
  },
  {
   "cell_type": "code",
   "execution_count": 19,
   "id": "efe896fa-00cc-4bc8-a392-a9010004dfdf",
   "metadata": {},
   "outputs": [
    {
     "name": "stdout",
     "output_type": "stream",
     "text": [
      "python\n",
      "life\n"
     ]
    }
   ],
   "source": [
    "a, b = 'python', 'life'\n",
    "print(a)\n",
    "print(b)"
   ]
  },
  {
   "cell_type": "code",
   "execution_count": 20,
   "id": "bf181b6b-d9e2-47de-800b-6a25914cb7a6",
   "metadata": {},
   "outputs": [
    {
     "name": "stdout",
     "output_type": "stream",
     "text": [
      "python\n",
      "life\n"
     ]
    }
   ],
   "source": [
    "# 리스트로 변수 만들기\n",
    "[a,b]=['python', 'life']\n",
    "print(a)\n",
    "print(b)"
   ]
  },
  {
   "cell_type": "code",
   "execution_count": 22,
   "id": "b0487006-9215-4d5a-9755-14c796831dff",
   "metadata": {},
   "outputs": [
    {
     "name": "stdout",
     "output_type": "stream",
     "text": [
      "python\n",
      "python\n",
      "2763957594432\n",
      "2763957594432\n"
     ]
    }
   ],
   "source": [
    "# 여러개 변수에 값은 값 대입\n",
    "a = b = 'python'\n",
    "print(a)\n",
    "print(b)\n",
    "print(id(a))\n",
    "print(id(b))"
   ]
  },
  {
   "cell_type": "code",
   "execution_count": 23,
   "id": "085021b6-0c97-46a0-9c2d-2ec45e20b6f1",
   "metadata": {},
   "outputs": [
    {
     "name": "stdout",
     "output_type": "stream",
     "text": [
      "[5, 2, 3]\n",
      "[5, 2, 3]\n",
      "2764057011392\n",
      "2764057011392\n"
     ]
    }
   ],
   "source": [
    "a = b = [1,2,3]\n",
    "a[0] = 5\n",
    "print(a)\n",
    "print(b)\n",
    "print(id(a))\n",
    "print(id(b))"
   ]
  },
  {
   "cell_type": "code",
   "execution_count": 24,
   "id": "1e66c780-4109-4819-8e89-a917893c7e05",
   "metadata": {},
   "outputs": [
    {
     "name": "stdout",
     "output_type": "stream",
     "text": [
      "5\n",
      "3\n"
     ]
    }
   ],
   "source": [
    "# 두 변수의 값 바꾸기\n",
    "a = 3\n",
    "b = 5\n",
    "a,b = b, a\n",
    "print(a)\n",
    "print(b)"
   ]
  },
  {
   "cell_type": "code",
   "execution_count": null,
   "id": "7a468b0c-1f98-41f5-bd25-4750d728aa8c",
   "metadata": {},
   "outputs": [],
   "source": []
  }
 ],
 "metadata": {
  "kernelspec": {
   "display_name": "Python 3 (ipykernel)",
   "language": "python",
   "name": "python3"
  },
  "language_info": {
   "codemirror_mode": {
    "name": "ipython",
    "version": 3
   },
   "file_extension": ".py",
   "mimetype": "text/x-python",
   "name": "python",
   "nbconvert_exporter": "python",
   "pygments_lexer": "ipython3",
   "version": "3.13.5"
  }
 },
 "nbformat": 4,
 "nbformat_minor": 5
}
