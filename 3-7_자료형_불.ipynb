{
 "cells": [
  {
   "cell_type": "markdown",
   "id": "14efbe6b-2e3e-4655-8197-50471e937184",
   "metadata": {},
   "source": [
    "## 1. 불 자료형은 어떻게 사용할까?"
   ]
  },
  {
   "cell_type": "code",
   "execution_count": 9,
   "id": "a10eda9f-1c57-43f9-a13b-4ec0d1650b14",
   "metadata": {},
   "outputs": [
    {
     "name": "stdout",
     "output_type": "stream",
     "text": [
      "True False\n"
     ]
    }
   ],
   "source": [
    "# 변수에 불 자료형 지정\n",
    "a = True\n",
    "b = False\n",
    "print(a, b)"
   ]
  },
  {
   "cell_type": "code",
   "execution_count": 10,
   "id": "f4dd78d2-840b-4768-b319-807515aed668",
   "metadata": {},
   "outputs": [
    {
     "data": {
      "text/plain": [
       "bool"
      ]
     },
     "execution_count": 10,
     "metadata": {},
     "output_type": "execute_result"
    }
   ],
   "source": [
    "type(a)"
   ]
  },
  {
   "cell_type": "code",
   "execution_count": 5,
   "id": "8d81263b-a1e3-4a52-bbca-87dbaad6777b",
   "metadata": {},
   "outputs": [
    {
     "data": {
      "text/plain": [
       "True"
      ]
     },
     "execution_count": 5,
     "metadata": {},
     "output_type": "execute_result"
    }
   ],
   "source": [
    "# 불 자료형은 조건문의 리터값으로 사용합니다.\n",
    "1 == 1"
   ]
  },
  {
   "cell_type": "code",
   "execution_count": 6,
   "id": "2187ebdb-a1c5-496d-9ef8-a713bf34d5c4",
   "metadata": {},
   "outputs": [
    {
     "data": {
      "text/plain": [
       "False"
      ]
     },
     "execution_count": 6,
     "metadata": {},
     "output_type": "execute_result"
    }
   ],
   "source": [
    "1==2"
   ]
  },
  {
   "cell_type": "code",
   "execution_count": 7,
   "id": "4266f99a-663f-4a77-8b8d-8b33b462151d",
   "metadata": {},
   "outputs": [
    {
     "data": {
      "text/plain": [
       "False"
      ]
     },
     "execution_count": 7,
     "metadata": {},
     "output_type": "execute_result"
    }
   ],
   "source": [
    "2 > 10"
   ]
  },
  {
   "cell_type": "code",
   "execution_count": 8,
   "id": "ca0abb05-682e-4dc9-a787-f2b848c090fc",
   "metadata": {},
   "outputs": [
    {
     "data": {
      "text/plain": [
       "True"
      ]
     },
     "execution_count": 8,
     "metadata": {},
     "output_type": "execute_result"
    }
   ],
   "source": [
    "20 > 10"
   ]
  },
  {
   "cell_type": "markdown",
   "id": "172091d7-b4d8-46fb-b7b4-b959eb15d50c",
   "metadata": {},
   "source": [
    "# 2. 자료형의 참과 거짓이 어떻게 쓰이는지 알아보자."
   ]
  },
  {
   "cell_type": "code",
   "execution_count": 12,
   "id": "db6f925b-aba0-4340-9899-bc7ac3fcf2f2",
   "metadata": {},
   "outputs": [
    {
     "name": "stdout",
     "output_type": "stream",
     "text": [
      "4\n",
      "3\n",
      "2\n",
      "1\n"
     ]
    }
   ],
   "source": [
    "a = [1,2,3,4]\n",
    "while a:\n",
    "    print(a.pop())"
   ]
  },
  {
   "cell_type": "code",
   "execution_count": 13,
   "id": "aae1d631-681e-4c02-ac67-7e4d8b7808d5",
   "metadata": {},
   "outputs": [
    {
     "data": {
      "text/plain": [
       "[]"
      ]
     },
     "execution_count": 13,
     "metadata": {},
     "output_type": "execute_result"
    }
   ],
   "source": [
    "a"
   ]
  },
  {
   "cell_type": "code",
   "execution_count": 14,
   "id": "be92afdc-4a5b-4b46-af08-113922b0e53f",
   "metadata": {},
   "outputs": [
    {
     "data": {
      "text/plain": [
       "False"
      ]
     },
     "execution_count": 14,
     "metadata": {},
     "output_type": "execute_result"
    }
   ],
   "source": [
    "bool(a)"
   ]
  },
  {
   "cell_type": "code",
   "execution_count": 16,
   "id": "3b424bc1-95d8-4bd9-aa50-8c47abffbbbe",
   "metadata": {},
   "outputs": [
    {
     "name": "stdout",
     "output_type": "stream",
     "text": [
      "거짓\n"
     ]
    }
   ],
   "source": [
    "if []:\n",
    "    print('참')\n",
    "else:\n",
    "    print('거짓')"
   ]
  },
  {
   "cell_type": "code",
   "execution_count": 18,
   "id": "b6f9001e-a23b-47cd-938e-396c60e46570",
   "metadata": {},
   "outputs": [
    {
     "name": "stdout",
     "output_type": "stream",
     "text": [
      "참\n"
     ]
    }
   ],
   "source": [
    "if [1,2,3]:\n",
    "    print('참')\n",
    "else:\n",
    "    print('거짓')"
   ]
  },
  {
   "cell_type": "markdown",
   "id": "47c81cde-052f-4ed7-96d4-34a3031614f3",
   "metadata": {},
   "source": [
    "## 3. 불 연산 - bool()"
   ]
  },
  {
   "cell_type": "code",
   "execution_count": 19,
   "id": "27f49428-6c46-436d-8c97-542061a547d2",
   "metadata": {},
   "outputs": [
    {
     "name": "stdout",
     "output_type": "stream",
     "text": [
      "False\n",
      "True\n",
      "False\n",
      "True\n",
      "False\n",
      "True\n",
      "False\n",
      "True\n",
      "True\n",
      "True\n"
     ]
    }
   ],
   "source": [
    "# bool() True인지 False인지 식별해주는 함수\n",
    "print(bool(''))  #False\n",
    "print(bool('aaa'))  #true\n",
    "print(bool([]))  #False\n",
    "print(bool([1,2]))  #True\n",
    "print(bool({}))  #False\n",
    "print(bool({'a': 1, 'b':2}))  #True\n",
    "print(bool(0))  #False\n",
    "print(bool(1))  #true\n",
    "print(bool(-1))  #true\n",
    "print(bool(2.5))  #true"
   ]
  },
  {
   "cell_type": "code",
   "execution_count": null,
   "id": "a9b0a823-588c-4bca-aded-567f74086cce",
   "metadata": {},
   "outputs": [],
   "source": []
  }
 ],
 "metadata": {
  "kernelspec": {
   "display_name": "Python 3 (ipykernel)",
   "language": "python",
   "name": "python3"
  },
  "language_info": {
   "codemirror_mode": {
    "name": "ipython",
    "version": 3
   },
   "file_extension": ".py",
   "mimetype": "text/x-python",
   "name": "python",
   "nbconvert_exporter": "python",
   "pygments_lexer": "ipython3",
   "version": "3.13.5"
  }
 },
 "nbformat": 4,
 "nbformat_minor": 5
}
