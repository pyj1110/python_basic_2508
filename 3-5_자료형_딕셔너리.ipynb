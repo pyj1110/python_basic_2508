{
 "cells": [
  {
   "cell_type": "markdown",
   "id": "a29606e6-8e3f-40ec-ba4d-7b22e6aa2353",
   "metadata": {},
   "source": [
    "## 2. 딕셔너리는 어떻게 만들까?"
   ]
  },
  {
   "cell_type": "code",
   "execution_count": 1,
   "id": "b582e8b5-9e6c-49ca-aab7-73ac17ffe82c",
   "metadata": {},
   "outputs": [
    {
     "data": {
      "text/plain": [
       "dict"
      ]
     },
     "execution_count": 1,
     "metadata": {},
     "output_type": "execute_result"
    }
   ],
   "source": [
    "dic = {'name':'박유진', 'phone':'010-4052-7173', 'birth':'1110'}\n",
    "type(dic)"
   ]
  },
  {
   "cell_type": "code",
   "execution_count": 3,
   "id": "ac67ee81-b848-4bf4-936e-904e4040d6be",
   "metadata": {},
   "outputs": [
    {
     "data": {
      "text/plain": [
       "'박유진'"
      ]
     },
     "execution_count": 3,
     "metadata": {},
     "output_type": "execute_result"
    }
   ],
   "source": [
    "dic['name']"
   ]
  },
  {
   "cell_type": "code",
   "execution_count": 4,
   "id": "bc5d34e9-4e3e-43e6-bbc6-e995b9256a5d",
   "metadata": {},
   "outputs": [
    {
     "data": {
      "text/plain": [
       "'010-4052-7173'"
      ]
     },
     "execution_count": 4,
     "metadata": {},
     "output_type": "execute_result"
    }
   ],
   "source": [
    "dic['phone']"
   ]
  },
  {
   "cell_type": "code",
   "execution_count": 6,
   "id": "6b95ba61-e787-4369-8efd-c104d086684f",
   "metadata": {},
   "outputs": [
    {
     "data": {
      "text/plain": [
       "{'a': [1, 2, 3]}"
      ]
     },
     "execution_count": 6,
     "metadata": {},
     "output_type": "execute_result"
    }
   ],
   "source": [
    "a = {'a':[1,2,3]}\n",
    "a"
   ]
  },
  {
   "cell_type": "markdown",
   "id": "dd93be0a-e504-411c-a788-2171ae29a4d5",
   "metadata": {},
   "source": [
    "## 3. 딕셔너리 쌍 추가, 삭제하기"
   ]
  },
  {
   "cell_type": "code",
   "execution_count": 7,
   "id": "3063ecf8-1f24-4ef5-a3ca-b89f26382fee",
   "metadata": {},
   "outputs": [
    {
     "data": {
      "text/plain": [
       "{1: 'a', 2: 'b'}"
      ]
     },
     "execution_count": 7,
     "metadata": {},
     "output_type": "execute_result"
    }
   ],
   "source": [
    "a = {1 :'a'}\n",
    "a[2] = 'b'\n",
    "a"
   ]
  },
  {
   "cell_type": "code",
   "execution_count": 9,
   "id": "bbd7882e-a122-491d-aca8-48f07d22592f",
   "metadata": {},
   "outputs": [
    {
     "data": {
      "text/plain": [
       "{1: 'a', 2: 'b', 'name': '박유진'}"
      ]
     },
     "execution_count": 9,
     "metadata": {},
     "output_type": "execute_result"
    }
   ],
   "source": [
    "a['name'] = '박유진'\n",
    "a"
   ]
  },
  {
   "cell_type": "code",
   "execution_count": 10,
   "id": "7e5c2a4b-7a7e-4333-8a2c-0df3c53f3a53",
   "metadata": {},
   "outputs": [
    {
     "data": {
      "text/plain": [
       "{1: 'a', 2: 'b', 'name': '박유진', 3: [1, 2, 3]}"
      ]
     },
     "execution_count": 10,
     "metadata": {},
     "output_type": "execute_result"
    }
   ],
   "source": [
    "a[3]=[1,2,3]\n",
    "a"
   ]
  },
  {
   "cell_type": "code",
   "execution_count": 11,
   "id": "855cdd1a-cfe0-424b-89bd-56d629cfba62",
   "metadata": {},
   "outputs": [
    {
     "data": {
      "text/plain": [
       "{1: 'a',\n",
       " 2: 'b',\n",
       " 'name': '박유진',\n",
       " 3: [1, 2, 3],\n",
       " 'hobby': {'a': [1, 2, 3], 'b': 'sport'}}"
      ]
     },
     "execution_count": 11,
     "metadata": {},
     "output_type": "execute_result"
    }
   ],
   "source": [
    "a['hobby']={'a':[1,2,3], 'b': 'sport'}\n",
    "a"
   ]
  },
  {
   "cell_type": "code",
   "execution_count": 12,
   "id": "c2de501e-ebf7-4b71-9315-ce0d4d0df61f",
   "metadata": {},
   "outputs": [
    {
     "data": {
      "text/plain": [
       "{1: 'a', 2: 'b', 'name': '박유진', 3: [1, 2, 3]}"
      ]
     },
     "execution_count": 12,
     "metadata": {},
     "output_type": "execute_result"
    }
   ],
   "source": [
    "del a['hobby']\n",
    "a"
   ]
  },
  {
   "cell_type": "code",
   "execution_count": 13,
   "id": "f59dc714-93ba-4248-8a18-972cdd72ec04",
   "metadata": {},
   "outputs": [
    {
     "data": {
      "text/plain": [
       "{1: 'a', 'name': '박유진', 3: [1, 2, 3]}"
      ]
     },
     "execution_count": 13,
     "metadata": {},
     "output_type": "execute_result"
    }
   ],
   "source": [
    "del a[2]\n",
    "a"
   ]
  },
  {
   "cell_type": "markdown",
   "id": "005d30ef-ab19-48fb-9083-649cec48e0cc",
   "metadata": {},
   "source": [
    "## 4. 딕셔너리를 사용하는 방법"
   ]
  },
  {
   "cell_type": "code",
   "execution_count": 14,
   "id": "0511a7c2-f9d2-4fa9-8618-6bda853f7b71",
   "metadata": {},
   "outputs": [
    {
     "name": "stdout",
     "output_type": "stream",
     "text": [
      "10\n",
      "99\n"
     ]
    }
   ],
   "source": [
    "grade ={'pey': 10, 'julliet': 99}\n",
    "print(grade['pey'])\n",
    "print(grade['julliet'])"
   ]
  },
  {
   "cell_type": "code",
   "execution_count": 15,
   "id": "6a4faefa-bdd9-4e08-a773-49166109ef09",
   "metadata": {},
   "outputs": [
    {
     "data": {
      "text/plain": [
       "'a'"
      ]
     },
     "execution_count": 15,
     "metadata": {},
     "output_type": "execute_result"
    }
   ],
   "source": [
    "a = {1: 'a', 2:'b'}\n",
    "a[1]"
   ]
  },
  {
   "cell_type": "code",
   "execution_count": 46,
   "id": "38bce54b-1f37-4217-9139-83f7e5139217",
   "metadata": {},
   "outputs": [
    {
     "data": {
      "text/plain": [
       "{1: 'b'}"
      ]
     },
     "execution_count": 46,
     "metadata": {},
     "output_type": "execute_result"
    }
   ],
   "source": [
    "# 딕셔너리만들 때 주의 사항\n",
    "# 키는 중복 불가능\n",
    "a = {1:'a', 1:'b'}\n",
    "a"
   ]
  },
  {
   "cell_type": "code",
   "execution_count": 17,
   "id": "c27863cf-653d-461a-8077-3fff40733c3d",
   "metadata": {},
   "outputs": [
    {
     "ename": "TypeError",
     "evalue": "unhashable type: 'list'",
     "output_type": "error",
     "traceback": [
      "\u001b[1;31m---------------------------------------------------------------------------\u001b[0m",
      "\u001b[1;31mTypeError\u001b[0m                                 Traceback (most recent call last)",
      "Cell \u001b[1;32mIn[17], line 1\u001b[0m\n\u001b[1;32m----> 1\u001b[0m a \u001b[38;5;241m=\u001b[39m {[\u001b[38;5;241m1\u001b[39m,\u001b[38;5;241m2\u001b[39m]: \u001b[38;5;124m'\u001b[39m\u001b[38;5;124mhi\u001b[39m\u001b[38;5;124m'\u001b[39m}\n",
      "\u001b[1;31mTypeError\u001b[0m: unhashable type: 'list'"
     ]
    }
   ],
   "source": [
    "# 키는 리스트 불가(숫자, 문자열 가능)\n",
    "a = {[1,2]: 'hi'}"
   ]
  },
  {
   "cell_type": "markdown",
   "id": "e29ab03c-06d7-460b-8b58-3972f1437e02",
   "metadata": {},
   "source": [
    "## 5. 딕셔너리 관련 함수"
   ]
  },
  {
   "cell_type": "code",
   "execution_count": 18,
   "id": "d4a89686-f0a4-435a-ae1b-7942be8034bd",
   "metadata": {},
   "outputs": [
    {
     "data": {
      "text/plain": [
       "dict_keys(['name', 'phone', 'birth'])"
      ]
     },
     "execution_count": 18,
     "metadata": {},
     "output_type": "execute_result"
    }
   ],
   "source": [
    "# keys(): key 리스트 만들기\n",
    "dic = {'name':'박유진', 'phone':'010-4052-7173', 'birth':'1110'}\n",
    "dic.keys()"
   ]
  },
  {
   "cell_type": "code",
   "execution_count": 19,
   "id": "7bedc559-6ef5-4967-a82a-56689ff42ba4",
   "metadata": {},
   "outputs": [
    {
     "data": {
      "text/plain": [
       "dict_values(['박유진', '010-4052-7173', '1110'])"
      ]
     },
     "execution_count": 19,
     "metadata": {},
     "output_type": "execute_result"
    }
   ],
   "source": [
    "# values() : value 리스트 만들기\n",
    "dic.values()"
   ]
  },
  {
   "cell_type": "code",
   "execution_count": 20,
   "id": "64be50d4-9137-4202-a307-98f188b4db45",
   "metadata": {},
   "outputs": [
    {
     "name": "stdout",
     "output_type": "stream",
     "text": [
      "name\n",
      "phone\n",
      "birth\n"
     ]
    }
   ],
   "source": [
    "for k in dic.keys():\n",
    "    print(k)"
   ]
  },
  {
   "cell_type": "code",
   "execution_count": 21,
   "id": "7c6a1844-9abf-4aa2-aa04-774acbef3f87",
   "metadata": {},
   "outputs": [
    {
     "data": {
      "text/plain": [
       "dict_items([('name', '박유진'), ('phone', '010-4052-7173'), ('birth', '1110')])"
      ]
     },
     "execution_count": 21,
     "metadata": {},
     "output_type": "execute_result"
    }
   ],
   "source": [
    "# items() key, value 쌍 얻기\n",
    "dic.items()"
   ]
  },
  {
   "cell_type": "code",
   "execution_count": 22,
   "id": "37473c47-fc0f-43ac-ab2c-861804138a78",
   "metadata": {},
   "outputs": [
    {
     "data": {
      "text/plain": [
       "{}"
      ]
     },
     "execution_count": 22,
     "metadata": {},
     "output_type": "execute_result"
    }
   ],
   "source": [
    "# clear() 딕셔너리 아이템들 모두 지우기\n",
    "dic.clear()\n",
    "dic"
   ]
  },
  {
   "cell_type": "code",
   "execution_count": 23,
   "id": "1f5f8f21-ac25-4638-b4f8-12025c403813",
   "metadata": {},
   "outputs": [
    {
     "data": {
      "text/plain": [
       "dict"
      ]
     },
     "execution_count": 23,
     "metadata": {},
     "output_type": "execute_result"
    }
   ],
   "source": [
    "type(dic)"
   ]
  },
  {
   "cell_type": "code",
   "execution_count": 30,
   "id": "25f2815a-cc3c-45c5-bd47-6a3832903d96",
   "metadata": {},
   "outputs": [
    {
     "data": {
      "text/plain": [
       "{'phone': '010-4052-7173', 'birth': '1110', 'name': '박유진'}"
      ]
     },
     "execution_count": 30,
     "metadata": {},
     "output_type": "execute_result"
    }
   ],
   "source": [
    "dic['name']= '박유진'\n",
    "dic"
   ]
  },
  {
   "cell_type": "code",
   "execution_count": 27,
   "id": "0d42fac2-ead8-492c-8c34-66db553b117c",
   "metadata": {},
   "outputs": [
    {
     "data": {
      "text/plain": [
       "{'phone': '010-4052-7173', 'birth': '1110'}"
      ]
     },
     "execution_count": 27,
     "metadata": {},
     "output_type": "execute_result"
    }
   ],
   "source": [
    "dic['phone'] = '010-4052-7173'\n",
    "dic['birth'] = '1110'\n",
    "dic"
   ]
  },
  {
   "cell_type": "code",
   "execution_count": 33,
   "id": "a7ba9b34-6433-49fa-ac1b-a8bb626defdb",
   "metadata": {},
   "outputs": [
    {
     "name": "stdout",
     "output_type": "stream",
     "text": [
      "내 이름은 박유진\n"
     ]
    }
   ],
   "source": [
    "print(f\"내 이름은 {dic['name']}\")"
   ]
  },
  {
   "cell_type": "code",
   "execution_count": 34,
   "id": "4e73dd69-aca1-4eea-87a4-a5af422dea9f",
   "metadata": {},
   "outputs": [
    {
     "name": "stdout",
     "output_type": "stream",
     "text": [
      "내 전화번호는 010-4052-7173입니다\n"
     ]
    }
   ],
   "source": [
    "print(f\"내 전화번호는 {dic['phone']}입니다\")"
   ]
  },
  {
   "cell_type": "code",
   "execution_count": 35,
   "id": "0fd75e1b-552c-46b3-bf71-ea313e4ca255",
   "metadata": {},
   "outputs": [
    {
     "data": {
      "text/plain": [
       "'1110'"
      ]
     },
     "execution_count": 35,
     "metadata": {},
     "output_type": "execute_result"
    }
   ],
   "source": [
    "# get() key로 value 얻기\n",
    "dic.get('birth')"
   ]
  },
  {
   "cell_type": "code",
   "execution_count": 36,
   "id": "a1cb8d18-a952-45ba-953d-57d13817911d",
   "metadata": {},
   "outputs": [
    {
     "data": {
      "text/plain": [
       "'박유진'"
      ]
     },
     "execution_count": 36,
     "metadata": {},
     "output_type": "execute_result"
    }
   ],
   "source": [
    "dic.get('name')"
   ]
  },
  {
   "cell_type": "code",
   "execution_count": 37,
   "id": "d9d8248b-235b-4442-8975-3c26b3b6378e",
   "metadata": {},
   "outputs": [
    {
     "name": "stdout",
     "output_type": "stream",
     "text": [
      "None\n"
     ]
    }
   ],
   "source": [
    "print(dic.get('age'))"
   ]
  },
  {
   "cell_type": "code",
   "execution_count": 38,
   "id": "7d1bbade-2ad5-4f61-94eb-e039c1171c4f",
   "metadata": {},
   "outputs": [
    {
     "ename": "KeyError",
     "evalue": "'age'",
     "output_type": "error",
     "traceback": [
      "\u001b[1;31m---------------------------------------------------------------------------\u001b[0m",
      "\u001b[1;31mKeyError\u001b[0m                                  Traceback (most recent call last)",
      "Cell \u001b[1;32mIn[38], line 1\u001b[0m\n\u001b[1;32m----> 1\u001b[0m \u001b[38;5;28mprint\u001b[39m(a[\u001b[38;5;124m'\u001b[39m\u001b[38;5;124mage\u001b[39m\u001b[38;5;124m'\u001b[39m])\n",
      "\u001b[1;31mKeyError\u001b[0m: 'age'"
     ]
    }
   ],
   "source": [
    "print(a['age'])"
   ]
  },
  {
   "cell_type": "code",
   "execution_count": 39,
   "id": "69ea5735-ecc0-429c-ac09-0207ee8fce8e",
   "metadata": {},
   "outputs": [
    {
     "data": {
      "text/plain": [
       "25"
      ]
     },
     "execution_count": 39,
     "metadata": {},
     "output_type": "execute_result"
    }
   ],
   "source": [
    "dic.get('age', 25)"
   ]
  },
  {
   "cell_type": "code",
   "execution_count": 40,
   "id": "3938edd8-8890-4e9e-9ca5-e7e210469941",
   "metadata": {},
   "outputs": [
    {
     "data": {
      "text/plain": [
       "{'phone': '010-4052-7173', 'birth': '1110', 'name': '박유진', 'age': 28}"
      ]
     },
     "execution_count": 40,
     "metadata": {},
     "output_type": "execute_result"
    }
   ],
   "source": [
    "dic['age'] = 28\n",
    "dic"
   ]
  },
  {
   "cell_type": "code",
   "execution_count": 41,
   "id": "fc7da8be-84b3-4f3c-b700-9df915b6bbd7",
   "metadata": {},
   "outputs": [
    {
     "data": {
      "text/plain": [
       "28"
      ]
     },
     "execution_count": 41,
     "metadata": {},
     "output_type": "execute_result"
    }
   ],
   "source": [
    "dic.get('age', 25)"
   ]
  },
  {
   "cell_type": "code",
   "execution_count": 42,
   "id": "930b96f4-ceea-4f5e-8d29-0d1c644bd581",
   "metadata": {},
   "outputs": [
    {
     "data": {
      "text/plain": [
       "{'phone': '010-4052-7173', 'birth': '1110', 'name': '박유진', 'age': 28}"
      ]
     },
     "execution_count": 42,
     "metadata": {},
     "output_type": "execute_result"
    }
   ],
   "source": [
    "dic"
   ]
  },
  {
   "cell_type": "code",
   "execution_count": 43,
   "id": "668fe42f-e75c-4972-a762-df7a01dcc339",
   "metadata": {},
   "outputs": [
    {
     "data": {
      "text/plain": [
       "True"
      ]
     },
     "execution_count": 43,
     "metadata": {},
     "output_type": "execute_result"
    }
   ],
   "source": [
    "# in key가 딕셔너리가 존재하는지 여부를 확인\n",
    "'name' in dic"
   ]
  },
  {
   "cell_type": "code",
   "execution_count": 48,
   "id": "30316936-789b-4388-a169-16b9166a6cb2",
   "metadata": {},
   "outputs": [
    {
     "data": {
      "text/plain": [
       "False"
      ]
     },
     "execution_count": 48,
     "metadata": {},
     "output_type": "execute_result"
    }
   ],
   "source": [
    "'email' in dic"
   ]
  },
  {
   "cell_type": "code",
   "execution_count": null,
   "id": "425006ba-da53-46f5-9f7c-8431babc3301",
   "metadata": {},
   "outputs": [],
   "source": []
  }
 ],
 "metadata": {
  "kernelspec": {
   "display_name": "Python 3 (ipykernel)",
   "language": "python",
   "name": "python3"
  },
  "language_info": {
   "codemirror_mode": {
    "name": "ipython",
    "version": 3
   },
   "file_extension": ".py",
   "mimetype": "text/x-python",
   "name": "python",
   "nbconvert_exporter": "python",
   "pygments_lexer": "ipython3",
   "version": "3.13.5"
  }
 },
 "nbformat": 4,
 "nbformat_minor": 5
}
