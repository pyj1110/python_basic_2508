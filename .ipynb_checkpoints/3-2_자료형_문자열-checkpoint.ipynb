{
 "cells": [
  {
   "cell_type": "markdown",
   "id": "74a95b8f-3e92-43bf-b8b1-847e783e810c",
   "metadata": {},
   "source": [
    "## 3-2_자료형_문자열"
   ]
  },
  {
   "cell_type": "code",
   "execution_count": 1,
   "id": "343c9a82-e8bd-4295-854f-40074f53136d",
   "metadata": {},
   "outputs": [
    {
     "name": "stdout",
     "output_type": "stream",
     "text": [
      "python's favoite food is per1\n",
      "<class 'str'>\n"
     ]
    }
   ],
   "source": [
    "food = \"python's favoite food is per1\"\n",
    "print(food)\n",
    "print(type(food))"
   ]
  },
  {
   "cell_type": "code",
   "execution_count": 3,
   "id": "e6ca6a56-ef9f-484e-bf15-7d1be166be0c",
   "metadata": {},
   "outputs": [
    {
     "name": "stdout",
     "output_type": "stream",
     "text": [
      "python's favoite food is per1\n",
      "<class 'str'>\n"
     ]
    }
   ],
   "source": [
    "food = 'python\\'s favoite food is per1'\n",
    "print(food)\n",
    "print(type(food))"
   ]
  },
  {
   "cell_type": "code",
   "execution_count": 41,
   "id": "6970649a-19ad-492e-9571-4f2eb81dd95f",
   "metadata": {},
   "outputs": [
    {
     "data": {
      "text/plain": [
       "'\"python is very easy.\" he says.'"
      ]
     },
     "execution_count": 41,
     "metadata": {},
     "output_type": "execute_result"
    }
   ],
   "source": [
    "say = '\"python is very easy.\" he says.'\n",
    "say"
   ]
  },
  {
   "cell_type": "code",
   "execution_count": 43,
   "id": "d33b92ba-7df9-485a-9ec9-c5161da185af",
   "metadata": {},
   "outputs": [
    {
     "name": "stdout",
     "output_type": "stream",
     "text": [
      "\"python is very easy.\" he says.\n"
     ]
    }
   ],
   "source": [
    "print(say)"
   ]
  },
  {
   "cell_type": "code",
   "execution_count": 42,
   "id": "8b6ef6e7-c94c-44dd-9c61-81f979cd8486",
   "metadata": {},
   "outputs": [
    {
     "ename": "SyntaxError",
     "evalue": "invalid syntax (2704207056.py, line 1)",
     "output_type": "error",
     "traceback": [
      "\u001b[1;36m  Cell \u001b[1;32mIn[42], line 1\u001b[1;36m\u001b[0m\n\u001b[1;33m    say = \"\"pyhton is very easy.\" he says\"\u001b[0m\n\u001b[1;37m            ^\u001b[0m\n\u001b[1;31mSyntaxError\u001b[0m\u001b[1;31m:\u001b[0m invalid syntax\n"
     ]
    }
   ],
   "source": [
    "say = \"\"pyhton is very easy.\" he says\"\n",
    "say"
   ]
  },
  {
   "cell_type": "code",
   "execution_count": 55,
   "id": "39c952ad-7ed3-4584-b1b0-deddc19b466f",
   "metadata": {},
   "outputs": [
    {
     "data": {
      "text/plain": [
       "'\"python is very easy.\" he says.'"
      ]
     },
     "execution_count": 55,
     "metadata": {},
     "output_type": "execute_result"
    }
   ],
   "source": [
    "say = \"\\\"python is very easy.\\\" he says.\"\n",
    "say"
   ]
  },
  {
   "cell_type": "markdown",
   "id": "38de8ff6-f238-43d7-8a51-ebebd5188327",
   "metadata": {},
   "source": [
    "### 여러줄 문자열"
   ]
  },
  {
   "cell_type": "code",
   "execution_count": 47,
   "id": "a9906879-d928-416c-89f8-b4bb6e7d5fe4",
   "metadata": {},
   "outputs": [
    {
     "name": "stdout",
     "output_type": "stream",
     "text": [
      "Life is too short You need python\n"
     ]
    }
   ],
   "source": [
    "multiline = \"Life is too short You need python\"\n",
    "print(multiline)\n"
   ]
  },
  {
   "cell_type": "code",
   "execution_count": 48,
   "id": "b3e466d5-2a69-4f80-83fe-0a8f13b77427",
   "metadata": {},
   "outputs": [
    {
     "name": "stdout",
     "output_type": "stream",
     "text": [
      "Life is too short You need python\n"
     ]
    }
   ],
   "source": [
    "multiline = \"Life is too short You need python\"\n",
    "print(multiline)"
   ]
  },
  {
   "cell_type": "code",
   "execution_count": 49,
   "id": "43319003-435e-4997-a95b-df6fcc5298d5",
   "metadata": {},
   "outputs": [
    {
     "name": "stdout",
     "output_type": "stream",
     "text": [
      "\n",
      "Life is too short\n",
      "You need python\n",
      "\n"
     ]
    }
   ],
   "source": [
    "multiline = \"\"\"\n",
    "Life is too short\n",
    "You need python\n",
    "\"\"\"\n",
    "print(multiline)"
   ]
  },
  {
   "cell_type": "code",
   "execution_count": 50,
   "id": "0c3cf89c-de2c-4d76-851b-6e09e1d06aac",
   "metadata": {},
   "outputs": [
    {
     "name": "stdout",
     "output_type": "stream",
     "text": [
      "\n",
      "Life is too short\n",
      "You need python\n",
      "\n"
     ]
    }
   ],
   "source": [
    "multiline = '''\n",
    "Life is too short\n",
    "You need python\n",
    "'''\n",
    "\n",
    "print(multiline)"
   ]
  },
  {
   "cell_type": "markdown",
   "id": "8dfa63a8-4946-4120-806a-f59d83cd9217",
   "metadata": {},
   "source": [
    "### 문자열 연산"
   ]
  },
  {
   "cell_type": "code",
   "execution_count": 10,
   "id": "8cfd0234-a083-44c8-9572-fc5bebe2811f",
   "metadata": {},
   "outputs": [
    {
     "data": {
      "text/plain": [
       "'python is fun!'"
      ]
     },
     "execution_count": 10,
     "metadata": {},
     "output_type": "execute_result"
    }
   ],
   "source": [
    "head = \"python\"\n",
    "tail = \" is fun!\"\n",
    "\n",
    "head + tail"
   ]
  },
  {
   "cell_type": "code",
   "execution_count": 11,
   "id": "22abe6cb-6a2c-4b94-b44e-464cb1e787a2",
   "metadata": {},
   "outputs": [
    {
     "name": "stdout",
     "output_type": "stream",
     "text": [
      "pythonpython\n",
      "pythonpythonpython\n"
     ]
    }
   ],
   "source": [
    "a = \"python\"\n",
    "print(a*2)\n",
    "print(a*3)"
   ]
  },
  {
   "cell_type": "code",
   "execution_count": 13,
   "id": "742901f2-d9a5-4316-9589-229a27456f25",
   "metadata": {},
   "outputs": [
    {
     "name": "stdout",
     "output_type": "stream",
     "text": [
      "==================================================\n",
      "python\n",
      "==================================================\n"
     ]
    }
   ],
   "source": [
    "print('='*50)\n",
    "print('python')\n",
    "print('='*50)"
   ]
  },
  {
   "cell_type": "code",
   "execution_count": 14,
   "id": "bb7fb6d2-9848-4845-938e-5bbf95d99fe7",
   "metadata": {},
   "outputs": [
    {
     "name": "stdout",
     "output_type": "stream",
     "text": [
      "================\n"
     ]
    }
   ],
   "source": [
    "print('================')"
   ]
  },
  {
   "cell_type": "markdown",
   "id": "7dc6f14f-a871-46bf-92be-3df593e42f3c",
   "metadata": {},
   "source": [
    "### 문자열 길이 구하기"
   ]
  },
  {
   "cell_type": "code",
   "execution_count": 15,
   "id": "425dc5be-b523-4e2f-b92c-f4283b698521",
   "metadata": {},
   "outputs": [
    {
     "data": {
      "text/plain": [
       "17"
      ]
     },
     "execution_count": 15,
     "metadata": {},
     "output_type": "execute_result"
    }
   ],
   "source": [
    "a = \"Life is too short\"\n",
    "len(a)"
   ]
  },
  {
   "cell_type": "markdown",
   "id": "8ecd9a96-bc5b-46a9-a32a-120e9a03bd0a",
   "metadata": {},
   "source": [
    "### 문자열 인덱싱"
   ]
  },
  {
   "cell_type": "code",
   "execution_count": 16,
   "id": "31837c30-8211-4448-b3a5-d6d390edab21",
   "metadata": {},
   "outputs": [],
   "source": [
    "a = \"Life is too short, You need python\""
   ]
  },
  {
   "cell_type": "code",
   "execution_count": 17,
   "id": "762a7307-7068-4f54-905f-92e85a13f900",
   "metadata": {},
   "outputs": [
    {
     "data": {
      "text/plain": [
       "'L'"
      ]
     },
     "execution_count": 17,
     "metadata": {},
     "output_type": "execute_result"
    }
   ],
   "source": [
    "a[0]"
   ]
  },
  {
   "cell_type": "code",
   "execution_count": 18,
   "id": "5f38270f-c82b-4921-adac-b315da618e69",
   "metadata": {},
   "outputs": [
    {
     "data": {
      "text/plain": [
       "'i'"
      ]
     },
     "execution_count": 18,
     "metadata": {},
     "output_type": "execute_result"
    }
   ],
   "source": [
    "a[5]"
   ]
  },
  {
   "cell_type": "code",
   "execution_count": 19,
   "id": "212ea071-ae39-4880-9d6b-b85624d0cf6f",
   "metadata": {},
   "outputs": [
    {
     "data": {
      "text/plain": [
       "34"
      ]
     },
     "execution_count": 19,
     "metadata": {},
     "output_type": "execute_result"
    }
   ],
   "source": [
    "len(a)"
   ]
  },
  {
   "cell_type": "code",
   "execution_count": 20,
   "id": "0970f218-67e5-4394-9857-58597b286b97",
   "metadata": {},
   "outputs": [
    {
     "data": {
      "text/plain": [
       "'n'"
      ]
     },
     "execution_count": 20,
     "metadata": {},
     "output_type": "execute_result"
    }
   ],
   "source": [
    "a[33]"
   ]
  },
  {
   "cell_type": "code",
   "execution_count": 21,
   "id": "1c5c15f8-8cbb-4483-845f-772af6a79957",
   "metadata": {},
   "outputs": [
    {
     "data": {
      "text/plain": [
       "'n'"
      ]
     },
     "execution_count": 21,
     "metadata": {},
     "output_type": "execute_result"
    }
   ],
   "source": [
    "a[-1]"
   ]
  },
  {
   "cell_type": "code",
   "execution_count": 22,
   "id": "0c9219d6-eb9e-4d08-b8dc-01006c7a2c06",
   "metadata": {},
   "outputs": [
    {
     "data": {
      "text/plain": [
       "'n'"
      ]
     },
     "execution_count": 22,
     "metadata": {},
     "output_type": "execute_result"
    }
   ],
   "source": [
    "a[-1] # 뒤에서 부터 찾기"
   ]
  },
  {
   "cell_type": "code",
   "execution_count": 23,
   "id": "e72c6386-b6be-471d-90fa-446122f928f0",
   "metadata": {},
   "outputs": [
    {
     "data": {
      "text/plain": [
       "'o'"
      ]
     },
     "execution_count": 23,
     "metadata": {},
     "output_type": "execute_result"
    }
   ],
   "source": [
    "a[-2] #뒤에서 두번째"
   ]
  },
  {
   "cell_type": "markdown",
   "id": "972154f1-0c1a-4945-ab5a-f193bf8df26f",
   "metadata": {},
   "source": [
    "### 문자열 슬라이싱"
   ]
  },
  {
   "cell_type": "code",
   "execution_count": 26,
   "id": "63df7cf6-9acf-4fe4-b77b-3a033b525c53",
   "metadata": {},
   "outputs": [
    {
     "name": "stdout",
     "output_type": "stream",
     "text": [
      "Life\n"
     ]
    }
   ],
   "source": [
    "b = a[0]+ a[1] + a[2] + a[3]\n",
    "print(b)"
   ]
  },
  {
   "cell_type": "code",
   "execution_count": 27,
   "id": "69d28c7f-6033-4f81-999a-7ef7df654508",
   "metadata": {},
   "outputs": [
    {
     "data": {
      "text/plain": [
       "'Life'"
      ]
     },
     "execution_count": 27,
     "metadata": {},
     "output_type": "execute_result"
    }
   ],
   "source": [
    "a[0:4]"
   ]
  },
  {
   "cell_type": "code",
   "execution_count": 28,
   "id": "a0650aba-abea-4a7d-bdf7-39f37590c776",
   "metadata": {},
   "outputs": [
    {
     "data": {
      "text/plain": [
       "'short'"
      ]
     },
     "execution_count": 28,
     "metadata": {},
     "output_type": "execute_result"
    }
   ],
   "source": [
    "# 문자열에서 short문자 슬라이싱\n",
    "a[12:17]"
   ]
  },
  {
   "cell_type": "code",
   "execution_count": 29,
   "id": "6e7c11fc-6c9b-4b75-a53b-bd788f9f9618",
   "metadata": {},
   "outputs": [
    {
     "data": {
      "text/plain": [
       "'need'"
      ]
     },
     "execution_count": 29,
     "metadata": {},
     "output_type": "execute_result"
    }
   ],
   "source": [
    "# need\n",
    "a[23:27]"
   ]
  },
  {
   "cell_type": "code",
   "execution_count": 30,
   "id": "f59433fc-8e97-4eed-a782-bef960c0f531",
   "metadata": {},
   "outputs": [
    {
     "data": {
      "text/plain": [
       "'need '"
      ]
     },
     "execution_count": 30,
     "metadata": {},
     "output_type": "execute_result"
    }
   ],
   "source": [
    "a[23:28]"
   ]
  },
  {
   "cell_type": "code",
   "execution_count": 31,
   "id": "68a23537-1dea-47a3-b7b9-877f6969c11b",
   "metadata": {},
   "outputs": [
    {
     "data": {
      "text/plain": [
       "'python'"
      ]
     },
     "execution_count": 31,
     "metadata": {},
     "output_type": "execute_result"
    }
   ],
   "source": [
    "a[28:34]"
   ]
  },
  {
   "cell_type": "code",
   "execution_count": 32,
   "id": "ae43d38e-f45b-4b82-9acc-0a00537e908b",
   "metadata": {},
   "outputs": [
    {
     "data": {
      "text/plain": [
       "'python'"
      ]
     },
     "execution_count": 32,
     "metadata": {},
     "output_type": "execute_result"
    }
   ],
   "source": [
    "a[28:]"
   ]
  },
  {
   "cell_type": "code",
   "execution_count": 33,
   "id": "017c905f-0afd-4234-b1ad-da776768a30f",
   "metadata": {},
   "outputs": [
    {
     "data": {
      "text/plain": [
       "'Life'"
      ]
     },
     "execution_count": 33,
     "metadata": {},
     "output_type": "execute_result"
    }
   ],
   "source": [
    "a[:4]"
   ]
  },
  {
   "cell_type": "code",
   "execution_count": 34,
   "id": "fffd5420-5abc-4872-890e-f9448d7940f2",
   "metadata": {},
   "outputs": [
    {
     "data": {
      "text/plain": [
       "'Life is too short'"
      ]
     },
     "execution_count": 34,
     "metadata": {},
     "output_type": "execute_result"
    }
   ],
   "source": [
    "a[:17]"
   ]
  },
  {
   "cell_type": "code",
   "execution_count": 35,
   "id": "cb8cfa1f-2acc-4a90-9111-78d9d9e7e3b9",
   "metadata": {},
   "outputs": [
    {
     "data": {
      "text/plain": [
       "'Life is too short, You need python'"
      ]
     },
     "execution_count": 35,
     "metadata": {},
     "output_type": "execute_result"
    }
   ],
   "source": [
    "a"
   ]
  },
  {
   "cell_type": "code",
   "execution_count": 36,
   "id": "94450f1f-4f42-4718-a9c7-75236eec3c0c",
   "metadata": {},
   "outputs": [
    {
     "data": {
      "text/plain": [
       "'pytho'"
      ]
     },
     "execution_count": 36,
     "metadata": {},
     "output_type": "execute_result"
    }
   ],
   "source": [
    "a[28:-1]"
   ]
  },
  {
   "cell_type": "code",
   "execution_count": 38,
   "id": "8c49fda8-ca6e-4490-a8d4-8cd81c2fce72",
   "metadata": {},
   "outputs": [
    {
     "data": {
      "text/plain": [
       "''"
      ]
     },
     "execution_count": 38,
     "metadata": {},
     "output_type": "execute_result"
    }
   ],
   "source": [
    "a[28:0] #슬라이싱 안됨"
   ]
  },
  {
   "cell_type": "code",
   "execution_count": 39,
   "id": "87b0adc9-b68a-49f5-b770-f8c36e950b62",
   "metadata": {},
   "outputs": [
    {
     "name": "stdout",
     "output_type": "stream",
     "text": [
      "<class 'str'>\n"
     ]
    }
   ],
   "source": [
    "a = \"123\"\n",
    "print(type(a))"
   ]
  },
  {
   "cell_type": "code",
   "execution_count": 40,
   "id": "ac4109d2-0367-4e0e-83c5-7a608316d4e6",
   "metadata": {},
   "outputs": [
    {
     "ename": "TypeError",
     "evalue": "unsupported operand type(s) for /: 'str' and 'str'",
     "output_type": "error",
     "traceback": [
      "\u001b[1;31m---------------------------------------------------------------------------\u001b[0m",
      "\u001b[1;31mTypeError\u001b[0m                                 Traceback (most recent call last)",
      "Cell \u001b[1;32mIn[40], line 2\u001b[0m\n\u001b[0;32m      1\u001b[0m b \u001b[38;5;241m=\u001b[39m \u001b[38;5;124m\"\u001b[39m\u001b[38;5;124m10\u001b[39m\u001b[38;5;124m\"\u001b[39m\n\u001b[1;32m----> 2\u001b[0m a\u001b[38;5;241m/\u001b[39mb\n",
      "\u001b[1;31mTypeError\u001b[0m: unsupported operand type(s) for /: 'str' and 'str'"
     ]
    }
   ],
   "source": [
    "b = \"10\"\n",
    "a/b"
   ]
  },
  {
   "cell_type": "markdown",
   "id": "bc6ca3c2-7a8f-465f-98b3-db78e0e8a441",
   "metadata": {},
   "source": [
    "### pithon 문자열을 python으로 바꾸려면?"
   ]
  },
  {
   "cell_type": "code",
   "execution_count": 1,
   "id": "522694ab-9887-4336-b694-4b49d72213bb",
   "metadata": {},
   "outputs": [
    {
     "data": {
      "text/plain": [
       "'i'"
      ]
     },
     "execution_count": 1,
     "metadata": {},
     "output_type": "execute_result"
    }
   ],
   "source": [
    "a = 'pithon'\n",
    "a[1]"
   ]
  },
  {
   "cell_type": "code",
   "execution_count": 2,
   "id": "468ce179-b22a-497e-8724-71ff543c6517",
   "metadata": {},
   "outputs": [
    {
     "ename": "TypeError",
     "evalue": "'str' object does not support item assignment",
     "output_type": "error",
     "traceback": [
      "\u001b[1;31m---------------------------------------------------------------------------\u001b[0m",
      "\u001b[1;31mTypeError\u001b[0m                                 Traceback (most recent call last)",
      "Cell \u001b[1;32mIn[2], line 1\u001b[0m\n\u001b[1;32m----> 1\u001b[0m a[\u001b[38;5;241m1\u001b[39m] \u001b[38;5;241m=\u001b[39m \u001b[38;5;124m'\u001b[39m\u001b[38;5;124my\u001b[39m\u001b[38;5;124m'\u001b[39m\n",
      "\u001b[1;31mTypeError\u001b[0m: 'str' object does not support item assignment"
     ]
    }
   ],
   "source": [
    "a[1] = 'y'"
   ]
  },
  {
   "cell_type": "code",
   "execution_count": 3,
   "id": "b6d7c94e-5bbb-4a9d-821e-3671e0566252",
   "metadata": {},
   "outputs": [
    {
     "name": "stdout",
     "output_type": "stream",
     "text": [
      "def\n"
     ]
    }
   ],
   "source": [
    "b = 'abc'\n",
    "b = 'def'\n",
    "print(b)"
   ]
  },
  {
   "cell_type": "code",
   "execution_count": 4,
   "id": "423b94b3-7a5a-4390-a56c-c086f4df6166",
   "metadata": {},
   "outputs": [
    {
     "name": "stdout",
     "output_type": "stream",
     "text": [
      "pithon\n"
     ]
    }
   ],
   "source": [
    "print(a)"
   ]
  },
  {
   "cell_type": "code",
   "execution_count": 5,
   "id": "8aabf092-cd35-4b38-8574-25ff4c7de2c2",
   "metadata": {},
   "outputs": [
    {
     "name": "stdout",
     "output_type": "stream",
     "text": [
      "python\n"
     ]
    }
   ],
   "source": [
    "b = a[0] + 'y' + a[2:]\n",
    "print(b)"
   ]
  },
  {
   "cell_type": "markdown",
   "id": "550f604d-f6f1-47cb-bdaa-b848779665f9",
   "metadata": {},
   "source": [
    "### 문자열 포매팅"
   ]
  },
  {
   "cell_type": "code",
   "execution_count": 6,
   "id": "1cd1f6cf-0c81-4872-91f2-69dd2b56d2b1",
   "metadata": {},
   "outputs": [
    {
     "data": {
      "text/plain": [
       "'I eat 5 apples.'"
      ]
     },
     "execution_count": 6,
     "metadata": {},
     "output_type": "execute_result"
    }
   ],
   "source": [
    "\"I eat %d apples.\" %5"
   ]
  },
  {
   "cell_type": "code",
   "execution_count": null,
   "id": "729ad37d-5683-4478-8874-02a2abc51f49",
   "metadata": {},
   "outputs": [],
   "source": []
  },
  {
   "cell_type": "code",
   "execution_count": 25,
   "id": "63861145-d1a1-4984-8301-55bd5bcc2c87",
   "metadata": {},
   "outputs": [
    {
     "ename": "SyntaxError",
     "evalue": "unterminated string literal (detected at line 1) (3714722914.py, line 1)",
     "output_type": "error",
     "traceback": [
      "\u001b[1;36m  Cell \u001b[1;32mIn[25], line 1\u001b[1;36m\u001b[0m\n\u001b[1;33m    \"I eat %d apples.\" \"%\"abc\"\u001b[0m\n\u001b[1;37m                             ^\u001b[0m\n\u001b[1;31mSyntaxError\u001b[0m\u001b[1;31m:\u001b[0m unterminated string literal (detected at line 1)\n"
     ]
    }
   ],
   "source": [
    "\"I eat %d apples.\" \"%\"abc\""
   ]
  },
  {
   "cell_type": "code",
   "execution_count": 106,
   "id": "dbfc7a3c-8e4f-4f44-b846-13075b23dc45",
   "metadata": {},
   "outputs": [
    {
     "data": {
      "text/plain": [
       "'I eat abc apples.'"
      ]
     },
     "execution_count": 106,
     "metadata": {},
     "output_type": "execute_result"
    }
   ],
   "source": [
    "\"I eat %s apples.\"%\"abc\""
   ]
  },
  {
   "cell_type": "code",
   "execution_count": 105,
   "id": "c23e17ba-2f9a-4dec-b471-57df37197975",
   "metadata": {},
   "outputs": [
    {
     "data": {
      "text/plain": [
       "'I eat 5 apples.'"
      ]
     },
     "execution_count": 105,
     "metadata": {},
     "output_type": "execute_result"
    }
   ],
   "source": [
    "\"I eat %s apples.\"%5"
   ]
  },
  {
   "cell_type": "code",
   "execution_count": 12,
   "id": "93d51895-fad3-422d-9559-f70093cb2fac",
   "metadata": {},
   "outputs": [
    {
     "data": {
      "text/plain": [
       "'I eat 3 apples.'"
      ]
     },
     "execution_count": 12,
     "metadata": {},
     "output_type": "execute_result"
    }
   ],
   "source": [
    "number =3 \n",
    "\"I eat %d apples.\"%number"
   ]
  },
  {
   "cell_type": "code",
   "execution_count": 13,
   "id": "823b38dd-b03c-4d61-a845-3c30eda7176a",
   "metadata": {},
   "outputs": [
    {
     "data": {
      "text/plain": [
       "'I ate 10 apples, so I was sick for three days.'"
      ]
     },
     "execution_count": 13,
     "metadata": {},
     "output_type": "execute_result"
    }
   ],
   "source": [
    "number=10\n",
    "day= \"three\"\n",
    "\"I ate %d apples, so I was sick for %s days.\"%(number, day)"
   ]
  },
  {
   "cell_type": "code",
   "execution_count": 14,
   "id": "5f53fea9-59c7-460a-b241-6a4738b0c2e3",
   "metadata": {},
   "outputs": [
    {
     "ename": "ValueError",
     "evalue": "incomplete format",
     "output_type": "error",
     "traceback": [
      "\u001b[1;31m---------------------------------------------------------------------------\u001b[0m",
      "\u001b[1;31mValueError\u001b[0m                                Traceback (most recent call last)",
      "Cell \u001b[1;32mIn[14], line 2\u001b[0m\n\u001b[0;32m      1\u001b[0m \u001b[38;5;66;03m# 포맷코드와 문자%를 같이 사용\u001b[39;00m\n\u001b[1;32m----> 2\u001b[0m \u001b[38;5;124m\"\u001b[39m\u001b[38;5;124mError is \u001b[39m\u001b[38;5;132;01m%d\u001b[39;00m\u001b[38;5;124m%\u001b[39m\u001b[38;5;124m\"\u001b[39m\u001b[38;5;241m%\u001b[39m\u001b[38;5;241m98\u001b[39m\n",
      "\u001b[1;31mValueError\u001b[0m: incomplete format"
     ]
    }
   ],
   "source": [
    "# 포맷코드와 문자%를 같이 사용\n",
    "\"Error is %d%\"%98"
   ]
  },
  {
   "cell_type": "code",
   "execution_count": 15,
   "id": "1c96ab45-5182-41a0-9788-45db62094cc3",
   "metadata": {},
   "outputs": [
    {
     "data": {
      "text/plain": [
       "'Error is 98%'"
      ]
     },
     "execution_count": 15,
     "metadata": {},
     "output_type": "execute_result"
    }
   ],
   "source": [
    "\"Error is %d%%\"%98"
   ]
  },
  {
   "cell_type": "code",
   "execution_count": 21,
   "id": "3414ffb3-6dee-403e-9311-8c51c021ce46",
   "metadata": {},
   "outputs": [
    {
     "data": {
      "text/plain": [
       "'        hi'"
      ]
     },
     "execution_count": 21,
     "metadata": {},
     "output_type": "execute_result"
    }
   ],
   "source": [
    "a =\"%10s\"%\"hi\"\n",
    "a"
   ]
  },
  {
   "cell_type": "code",
   "execution_count": 22,
   "id": "2c4c5984-a739-4b28-adca-8e20c14be20c",
   "metadata": {},
   "outputs": [
    {
     "data": {
      "text/plain": [
       "10"
      ]
     },
     "execution_count": 22,
     "metadata": {},
     "output_type": "execute_result"
    }
   ],
   "source": [
    "len(a)"
   ]
  },
  {
   "cell_type": "code",
   "execution_count": 23,
   "id": "974462cc-bfd0-412d-938d-0b2b86ec3c1c",
   "metadata": {},
   "outputs": [
    {
     "data": {
      "text/plain": [
       "'hi        '"
      ]
     },
     "execution_count": 23,
     "metadata": {},
     "output_type": "execute_result"
    }
   ],
   "source": [
    "a =\"%-10s\"%\"hi\"\n",
    "a"
   ]
  },
  {
   "cell_type": "code",
   "execution_count": 27,
   "id": "400761eb-dcf4-46b9-8fee-e6d9aaa2c079",
   "metadata": {},
   "outputs": [
    {
     "data": {
      "text/plain": [
       "'3.4213'"
      ]
     },
     "execution_count": 27,
     "metadata": {},
     "output_type": "execute_result"
    }
   ],
   "source": [
    "\"%0.4f\"%3.42134234"
   ]
  },
  {
   "cell_type": "code",
   "execution_count": 30,
   "id": "fdb09c4d-47e7-4a6d-ade7-302e2b052360",
   "metadata": {},
   "outputs": [
    {
     "data": {
      "text/plain": [
       "'    3.4213'"
      ]
     },
     "execution_count": 30,
     "metadata": {},
     "output_type": "execute_result"
    }
   ],
   "source": [
    "f =\"%10.4f\"%3.42134234\n",
    "f"
   ]
  },
  {
   "cell_type": "code",
   "execution_count": 31,
   "id": "d2d45375-c9c6-4a45-a8df-4cf3848999d5",
   "metadata": {},
   "outputs": [
    {
     "data": {
      "text/plain": [
       "10"
      ]
     },
     "execution_count": 31,
     "metadata": {},
     "output_type": "execute_result"
    }
   ],
   "source": [
    "len(f)"
   ]
  },
  {
   "cell_type": "code",
   "execution_count": 32,
   "id": "f6d9b245-75b6-4785-a2dc-b63978845ec6",
   "metadata": {},
   "outputs": [
    {
     "data": {
      "text/plain": [
       "'I eat 3 apples.'"
      ]
     },
     "execution_count": 32,
     "metadata": {},
     "output_type": "execute_result"
    }
   ],
   "source": [
    "\"I eat {} apples.\".format(3)"
   ]
  },
  {
   "cell_type": "code",
   "execution_count": 33,
   "id": "4aaceb98-db1b-4643-98fd-0062e69fc1e1",
   "metadata": {},
   "outputs": [
    {
     "data": {
      "text/plain": [
       "'I eat five apples.'"
      ]
     },
     "execution_count": 33,
     "metadata": {},
     "output_type": "execute_result"
    }
   ],
   "source": [
    "\"I eat {} apples.\".format(\"five\")"
   ]
  },
  {
   "cell_type": "code",
   "execution_count": 34,
   "id": "92621b92-0c88-4460-a2b3-a17aeec1f180",
   "metadata": {},
   "outputs": [
    {
     "data": {
      "text/plain": [
       "'I eat 3 apples.'"
      ]
     },
     "execution_count": 34,
     "metadata": {},
     "output_type": "execute_result"
    }
   ],
   "source": [
    "number =3\n",
    "\"I eat {} apples.\".format(number)"
   ]
  },
  {
   "cell_type": "code",
   "execution_count": 36,
   "id": "ec987502-29ef-4692-bb4b-452e9bfdfcd7",
   "metadata": {},
   "outputs": [
    {
     "data": {
      "text/plain": [
       "'I ate 10 apples, so l was sick for three days.'"
      ]
     },
     "execution_count": 36,
     "metadata": {},
     "output_type": "execute_result"
    }
   ],
   "source": [
    "\"I ate {} apples, so l was sick for {} days.\".format(10, \"three\")"
   ]
  },
  {
   "cell_type": "code",
   "execution_count": 37,
   "id": "3535281b-9326-474e-a821-b3329a5ab1cd",
   "metadata": {},
   "outputs": [
    {
     "data": {
      "text/plain": [
       "'I ate three apples, so l was sick for 10 days.'"
      ]
     },
     "execution_count": 37,
     "metadata": {},
     "output_type": "execute_result"
    }
   ],
   "source": [
    "\"I ate {1} apples, so l was sick for {0} days.\".format(10, \"three\")"
   ]
  },
  {
   "cell_type": "code",
   "execution_count": 40,
   "id": "903d2dc1-5bc5-4476-abea-f5431ff3f279",
   "metadata": {},
   "outputs": [
    {
     "data": {
      "text/plain": [
       "'I ate 10 apples, so l was sick for 3 days.'"
      ]
     },
     "execution_count": 40,
     "metadata": {},
     "output_type": "execute_result"
    }
   ],
   "source": [
    "number = 10\n",
    "day = 3\n",
    "\n",
    "\"I ate {number} apples, so l was sick for {day} days.\".format(number=number, day=day)"
   ]
  },
  {
   "cell_type": "code",
   "execution_count": 41,
   "id": "bbfe052b-4dad-421d-b0f3-2ded5f2abe02",
   "metadata": {},
   "outputs": [
    {
     "data": {
      "text/plain": [
       "'hi        '"
      ]
     },
     "execution_count": 41,
     "metadata": {},
     "output_type": "execute_result"
    }
   ],
   "source": [
    "\"{:10}\".format('hi')"
   ]
  },
  {
   "cell_type": "code",
   "execution_count": 42,
   "id": "c93c892b-9d3c-480c-9147-69fd18ed1de8",
   "metadata": {},
   "outputs": [
    {
     "data": {
      "text/plain": [
       "'        hi'"
      ]
     },
     "execution_count": 42,
     "metadata": {},
     "output_type": "execute_result"
    }
   ],
   "source": [
    "\"{:>10}\".format('hi')"
   ]
  },
  {
   "cell_type": "code",
   "execution_count": 44,
   "id": "f590a0d4-df17-4644-861f-fdc9a641ca32",
   "metadata": {},
   "outputs": [
    {
     "data": {
      "text/plain": [
       "'    hi    '"
      ]
     },
     "execution_count": 44,
     "metadata": {},
     "output_type": "execute_result"
    }
   ],
   "source": [
    "\"{:^10}\".format('hi')"
   ]
  },
  {
   "cell_type": "code",
   "execution_count": 45,
   "id": "04565d62-d914-480c-b901-25618fa91376",
   "metadata": {},
   "outputs": [
    {
     "data": {
      "text/plain": [
       "'====hi===='"
      ]
     },
     "execution_count": 45,
     "metadata": {},
     "output_type": "execute_result"
    }
   ],
   "source": [
    "\"{:=^10}\".format('hi')"
   ]
  },
  {
   "cell_type": "code",
   "execution_count": 47,
   "id": "708595a4-8dd4-4566-a4de-f41570de2adc",
   "metadata": {},
   "outputs": [
    {
     "data": {
      "text/plain": [
       "'hi!!!!!!!!'"
      ]
     },
     "execution_count": 47,
     "metadata": {},
     "output_type": "execute_result"
    }
   ],
   "source": [
    "\"{:!<10}\".format('hi')"
   ]
  },
  {
   "cell_type": "code",
   "execution_count": 48,
   "id": "c1539524-1d61-4151-b2f0-b7e782b8c189",
   "metadata": {},
   "outputs": [
    {
     "data": {
      "text/plain": [
       "'3.4213'"
      ]
     },
     "execution_count": 48,
     "metadata": {},
     "output_type": "execute_result"
    }
   ],
   "source": [
    "\"{:0.4f}\".format(3.42134234)"
   ]
  },
  {
   "cell_type": "code",
   "execution_count": 49,
   "id": "2d34a269-f051-4799-bf47-bf7c50cdb8da",
   "metadata": {},
   "outputs": [
    {
     "data": {
      "text/plain": [
       "'    3.4213'"
      ]
     },
     "execution_count": 49,
     "metadata": {},
     "output_type": "execute_result"
    }
   ],
   "source": [
    "\"{:10.4f}\".format(3.42134234)"
   ]
  },
  {
   "cell_type": "code",
   "execution_count": 50,
   "id": "08b8c9c8-5670-41e8-a9ea-4af020c74eaa",
   "metadata": {},
   "outputs": [
    {
     "data": {
      "text/plain": [
       "'{and}'"
      ]
     },
     "execution_count": 50,
     "metadata": {},
     "output_type": "execute_result"
    }
   ],
   "source": [
    "\"{{and}}\".format()"
   ]
  },
  {
   "cell_type": "code",
   "execution_count": 61,
   "id": "4b2b2165-1236-49f5-a87e-927ac6b8e946",
   "metadata": {},
   "outputs": [
    {
     "data": {
      "text/plain": [
       "\"{'and'}\""
      ]
     },
     "execution_count": 61,
     "metadata": {},
     "output_type": "execute_result"
    }
   ],
   "source": [
    "\"{}\".format({'and'})"
   ]
  },
  {
   "cell_type": "code",
   "execution_count": 58,
   "id": "a6cc8897-6b39-4b96-9597-1bd2bcca951f",
   "metadata": {},
   "outputs": [
    {
     "data": {
      "text/plain": [
       "'나의 이름은 박유진입니다. 나이는 28입니다.'"
      ]
     },
     "execution_count": 58,
     "metadata": {},
     "output_type": "execute_result"
    }
   ],
   "source": [
    "name = '박유진'\n",
    "age = 28\n",
    "f\"나의 이름은 {name}입니다. 나이는 {age}입니다.\""
   ]
  },
  {
   "cell_type": "code",
   "execution_count": 60,
   "id": "e769664a-691d-45f0-aabe-cf90ab4b9f0a",
   "metadata": {},
   "outputs": [
    {
     "data": {
      "text/plain": [
       "'나는 내년에 29살이 됩니다.'"
      ]
     },
     "execution_count": 60,
     "metadata": {},
     "output_type": "execute_result"
    }
   ],
   "source": [
    "age = 28\n",
    "f\"나는 내년에 {age+1}살이 됩니다.\""
   ]
  },
  {
   "cell_type": "code",
   "execution_count": 103,
   "id": "6973578d-9e07-436b-8260-5cf44b945b9e",
   "metadata": {},
   "outputs": [
    {
     "data": {
      "text/plain": [
       "\"나의 이름은 박유진입니다. 나이는['age']입니다.\""
      ]
     },
     "execution_count": 103,
     "metadata": {},
     "output_type": "execute_result"
    }
   ],
   "source": [
    "d = {'name' : '박유진', 'age' : 28}\n",
    "f\"나의 이름은 {d['name']}입니다. 나이는{['age']}입니다.\""
   ]
  },
  {
   "cell_type": "code",
   "execution_count": 63,
   "id": "8a0762ab-2e25-4431-9eb9-29b3bf30e8fe",
   "metadata": {},
   "outputs": [
    {
     "data": {
      "text/plain": [
       "'hi        '"
      ]
     },
     "execution_count": 63,
     "metadata": {},
     "output_type": "execute_result"
    }
   ],
   "source": [
    "f\"{\"hi\":<10}\""
   ]
  },
  {
   "cell_type": "code",
   "execution_count": 64,
   "id": "a37675ed-4a64-4190-9116-05b63651d915",
   "metadata": {},
   "outputs": [
    {
     "data": {
      "text/plain": [
       "'        hi'"
      ]
     },
     "execution_count": 64,
     "metadata": {},
     "output_type": "execute_result"
    }
   ],
   "source": [
    "f\"{\"hi\":>10}\""
   ]
  },
  {
   "cell_type": "code",
   "execution_count": 65,
   "id": "79c0adde-7e43-42ce-982a-c9372e404c7d",
   "metadata": {},
   "outputs": [
    {
     "data": {
      "text/plain": [
       "'    hi    '"
      ]
     },
     "execution_count": 65,
     "metadata": {},
     "output_type": "execute_result"
    }
   ],
   "source": [
    "f\"{\"hi\":^10}\""
   ]
  },
  {
   "cell_type": "code",
   "execution_count": 102,
   "id": "e8dca24c-289a-4656-9916-0069caf58fe5",
   "metadata": {},
   "outputs": [
    {
     "name": "stdout",
     "output_type": "stream",
     "text": [
      "====hi====\n",
      "hi!!!!!!!!\n"
     ]
    }
   ],
   "source": [
    "print(f\"{\"hi\":=^10}\")\n",
    "print(f\"{\"hi\":!<10}\")"
   ]
  },
  {
   "cell_type": "code",
   "execution_count": 67,
   "id": "c96fe157-0b26-42e3-953c-a71eaa614334",
   "metadata": {},
   "outputs": [
    {
     "data": {
      "text/plain": [
       "'    3.4213'"
      ]
     },
     "execution_count": 67,
     "metadata": {},
     "output_type": "execute_result"
    }
   ],
   "source": [
    "f\"{3.421342:10.4f}\""
   ]
  },
  {
   "cell_type": "code",
   "execution_count": 69,
   "id": "df5c1698-020c-4f41-840c-48eac7ad91cc",
   "metadata": {},
   "outputs": [
    {
     "data": {
      "text/plain": [
       "'{and}'"
      ]
     },
     "execution_count": 69,
     "metadata": {},
     "output_type": "execute_result"
    }
   ],
   "source": [
    "f\"{{and}}\""
   ]
  },
  {
   "cell_type": "markdown",
   "id": "f65be37a-3a84-4be6-b3aa-c02e86c7bfcb",
   "metadata": {},
   "source": [
    "### 문자열 관련 함수들"
   ]
  },
  {
   "cell_type": "code",
   "execution_count": 70,
   "id": "9be69cfa-e6ff-48cb-bc36-6b1c10724e19",
   "metadata": {},
   "outputs": [
    {
     "data": {
      "text/plain": [
       "2"
      ]
     },
     "execution_count": 70,
     "metadata": {},
     "output_type": "execute_result"
    }
   ],
   "source": [
    "# count(): 문자 개수 세기\n",
    "\"hobby\".count('b')"
   ]
  },
  {
   "cell_type": "code",
   "execution_count": 71,
   "id": "9809684c-af1b-400a-8900-0dbbd4de6bde",
   "metadata": {},
   "outputs": [
    {
     "data": {
      "text/plain": [
       "4"
      ]
     },
     "execution_count": 71,
     "metadata": {},
     "output_type": "execute_result"
    }
   ],
   "source": [
    "\"abccccffffddd\".count('c')"
   ]
  },
  {
   "cell_type": "code",
   "execution_count": 72,
   "id": "ae2ca56b-108c-40d7-a5dc-bfe390eabbda",
   "metadata": {},
   "outputs": [
    {
     "data": {
      "text/plain": [
       "14"
      ]
     },
     "execution_count": 72,
     "metadata": {},
     "output_type": "execute_result"
    }
   ],
   "source": [
    "# find() : 위치 찾기\n",
    "\"python is the best choice\".find('b')"
   ]
  },
  {
   "cell_type": "code",
   "execution_count": 73,
   "id": "72d372a9-207d-4d4b-a903-4b7733ecbb38",
   "metadata": {},
   "outputs": [
    {
     "data": {
      "text/plain": [
       "-1"
      ]
     },
     "execution_count": 73,
     "metadata": {},
     "output_type": "execute_result"
    }
   ],
   "source": [
    "\"python is the best choice\".find('k') # 찾는 문자가 없으면 -1을 반환"
   ]
  },
  {
   "cell_type": "code",
   "execution_count": 74,
   "id": "afe4f8f2-cbbe-4e76-91a9-c363d81b7137",
   "metadata": {},
   "outputs": [
    {
     "data": {
      "text/plain": [
       "8"
      ]
     },
     "execution_count": 74,
     "metadata": {},
     "output_type": "execute_result"
    }
   ],
   "source": [
    "# index() : 위치 찾기\n",
    "a = \"Life is too short\"\n",
    "a.index('t')"
   ]
  },
  {
   "cell_type": "code",
   "execution_count": 75,
   "id": "bd60db10-7497-4bfc-abcd-de3f5b5e2b69",
   "metadata": {},
   "outputs": [
    {
     "ename": "ValueError",
     "evalue": "substring not found",
     "output_type": "error",
     "traceback": [
      "\u001b[1;31m---------------------------------------------------------------------------\u001b[0m",
      "\u001b[1;31mValueError\u001b[0m                                Traceback (most recent call last)",
      "Cell \u001b[1;32mIn[75], line 1\u001b[0m\n\u001b[1;32m----> 1\u001b[0m a\u001b[38;5;241m.\u001b[39mindex(\u001b[38;5;124m'\u001b[39m\u001b[38;5;124mk\u001b[39m\u001b[38;5;124m'\u001b[39m)\n",
      "\u001b[1;31mValueError\u001b[0m: substring not found"
     ]
    }
   ],
   "source": [
    "a.index('k')"
   ]
  },
  {
   "cell_type": "code",
   "execution_count": 76,
   "id": "bc320e63-e973-46b9-87cd-f18121a86b8d",
   "metadata": {},
   "outputs": [
    {
     "data": {
      "text/plain": [
       "'a,b,c,d'"
      ]
     },
     "execution_count": 76,
     "metadata": {},
     "output_type": "execute_result"
    }
   ],
   "source": [
    "# join() : 문자열 삽입\n",
    "\",\".join('abcd')"
   ]
  },
  {
   "cell_type": "code",
   "execution_count": 77,
   "id": "93e4dcec-3c1b-406a-9aa9-1ab6e1995403",
   "metadata": {},
   "outputs": [
    {
     "data": {
      "text/plain": [
       "['a', 'b', 'c', 'd']"
      ]
     },
     "execution_count": 77,
     "metadata": {},
     "output_type": "execute_result"
    }
   ],
   "source": [
    "['a' , 'b' , 'c' , 'd']"
   ]
  },
  {
   "cell_type": "code",
   "execution_count": 90,
   "id": "44498e6a-51cc-4817-a83d-fbe0444d0078",
   "metadata": {},
   "outputs": [
    {
     "name": "stdout",
     "output_type": "stream",
     "text": [
      "['a', 'b', 'c', 'd']\n",
      "<class 'list'>\n"
     ]
    }
   ],
   "source": [
    "list = ['a' , 'b' , 'c' , 'd']\n",
    "print(list)\n",
    "print(type(list))"
   ]
  },
  {
   "cell_type": "code",
   "execution_count": 82,
   "id": "2ab8cfed-a9cd-4a28-9789-6be50117f97c",
   "metadata": {},
   "outputs": [
    {
     "name": "stdout",
     "output_type": "stream",
     "text": [
      "a,b,c,d\n",
      "<class 'str'>\n"
     ]
    }
   ],
   "source": [
    "list_join =','.join(list)\n",
    "print(list_join)\n",
    "print(type(list_join))"
   ]
  },
  {
   "cell_type": "code",
   "execution_count": 91,
   "id": "e358ac8f-7e23-4376-89c9-9ee7b9dfe6d4",
   "metadata": {},
   "outputs": [
    {
     "data": {
      "text/plain": [
       "'abcd'"
      ]
     },
     "execution_count": 91,
     "metadata": {},
     "output_type": "execute_result"
    }
   ],
   "source": [
    "\"\".join(list)"
   ]
  },
  {
   "cell_type": "code",
   "execution_count": 85,
   "id": "af7d66ba-86e6-4542-9f4f-8c3d259229a8",
   "metadata": {},
   "outputs": [
    {
     "data": {
      "text/plain": [
       "'HI'"
      ]
     },
     "execution_count": 85,
     "metadata": {},
     "output_type": "execute_result"
    }
   ],
   "source": [
    "# upper() : 소문자를 대문자로\n",
    "\"hi\".upper()"
   ]
  },
  {
   "cell_type": "code",
   "execution_count": 86,
   "id": "f7e5499f-e6bb-41b6-833d-944fedadedf2",
   "metadata": {},
   "outputs": [
    {
     "data": {
      "text/plain": [
       "'hi'"
      ]
     },
     "execution_count": 86,
     "metadata": {},
     "output_type": "execute_result"
    }
   ],
   "source": [
    "# Lower() : 대문자를 소문자로\n",
    "\"HI\".lower()"
   ]
  },
  {
   "cell_type": "code",
   "execution_count": 87,
   "id": "7a303fc8-8e31-42b7-86a1-fde225703eca",
   "metadata": {},
   "outputs": [
    {
     "data": {
      "text/plain": [
       "'hi  '"
      ]
     },
     "execution_count": 87,
     "metadata": {},
     "output_type": "execute_result"
    }
   ],
   "source": [
    "# Lstrip() : 왼쪽 공백 제거\n",
    "\"   hi  \".lstrip()"
   ]
  },
  {
   "cell_type": "code",
   "execution_count": 88,
   "id": "bf74b051-4ae1-4531-aab1-e9efb842a349",
   "metadata": {},
   "outputs": [
    {
     "data": {
      "text/plain": [
       "'  hi'"
      ]
     },
     "execution_count": 88,
     "metadata": {},
     "output_type": "execute_result"
    }
   ],
   "source": [
    "# rstrip() : 오른쪽 공백 제거\n",
    "\"  hi  \".rstrip()"
   ]
  },
  {
   "cell_type": "code",
   "execution_count": 89,
   "id": "970bbbb4-ef72-4a69-86a4-468c4dba6d34",
   "metadata": {},
   "outputs": [
    {
     "data": {
      "text/plain": [
       "'hi'"
      ]
     },
     "execution_count": 89,
     "metadata": {},
     "output_type": "execute_result"
    }
   ],
   "source": [
    "# strip() : 양쪽 공백 제거\n",
    "\"  hi  \".strip()"
   ]
  },
  {
   "cell_type": "code",
   "execution_count": 92,
   "id": "1c03e98e-1aa6-4010-acff-e730c5a35b16",
   "metadata": {},
   "outputs": [
    {
     "data": {
      "text/plain": [
       "'your leg is too short'"
      ]
     },
     "execution_count": 92,
     "metadata": {},
     "output_type": "execute_result"
    }
   ],
   "source": [
    "# replace() : 문자열 바꾸기\n",
    "\n",
    "\"Life is too short\".replace(\"Life\", \"your leg\")"
   ]
  },
  {
   "cell_type": "code",
   "execution_count": 93,
   "id": "74c361f3-1df7-4018-b3ec-0968760ba87f",
   "metadata": {},
   "outputs": [
    {
     "data": {
      "text/plain": [
       "'Life is too short'"
      ]
     },
     "execution_count": 93,
     "metadata": {},
     "output_type": "execute_result"
    }
   ],
   "source": [
    "\"Life is too short\".replace(\"K\", \"your leg\")"
   ]
  },
  {
   "cell_type": "code",
   "execution_count": 95,
   "id": "14844a75-7bbe-4fbd-bf75-347f76198a0e",
   "metadata": {},
   "outputs": [
    {
     "name": "stdout",
     "output_type": "stream",
     "text": [
      "['Life', 'is', 'too', 'short']\n",
      "<class 'list'>\n"
     ]
    }
   ],
   "source": [
    "# split() : 문자열 나누기\n",
    "a = \"Life is too short\"\n",
    "b = a.split()\n",
    "\n",
    "print(b)\n",
    "print(type(b))"
   ]
  },
  {
   "cell_type": "code",
   "execution_count": 96,
   "id": "b315eb53-8c2e-46ea-a2ae-6a0b66527b89",
   "metadata": {},
   "outputs": [
    {
     "data": {
      "text/plain": [
       "['a', 'b', 'c', 'd']"
      ]
     },
     "execution_count": 96,
     "metadata": {},
     "output_type": "execute_result"
    }
   ],
   "source": [
    "c = \"a,b,c,d\"\n",
    "c.split(',')"
   ]
  },
  {
   "cell_type": "code",
   "execution_count": 99,
   "id": "f1281f45-791d-46fc-83fe-3d9318d91e58",
   "metadata": {},
   "outputs": [
    {
     "data": {
      "text/plain": [
       "'HI'"
      ]
     },
     "execution_count": 99,
     "metadata": {},
     "output_type": "execute_result"
    }
   ],
   "source": [
    "a = \"hi\"\n",
    "a.upper()"
   ]
  },
  {
   "cell_type": "code",
   "execution_count": 100,
   "id": "77a7e911-7901-4ce8-8b51-0feb09e567bb",
   "metadata": {},
   "outputs": [
    {
     "data": {
      "text/plain": [
       "'hi'"
      ]
     },
     "execution_count": 100,
     "metadata": {},
     "output_type": "execute_result"
    }
   ],
   "source": [
    "a"
   ]
  },
  {
   "cell_type": "code",
   "execution_count": 101,
   "id": "3c5cb941-83ac-4bdb-af3e-745bff26fef4",
   "metadata": {},
   "outputs": [
    {
     "data": {
      "text/plain": [
       "'HI'"
      ]
     },
     "execution_count": 101,
     "metadata": {},
     "output_type": "execute_result"
    }
   ],
   "source": [
    "a = a.upper()\n",
    "a"
   ]
  },
  {
   "cell_type": "code",
   "execution_count": null,
   "id": "176bcdf5-d67f-4468-b425-13472a92b6fe",
   "metadata": {},
   "outputs": [],
   "source": []
  }
 ],
 "metadata": {
  "kernelspec": {
   "display_name": "Python 3 (ipykernel)",
   "language": "python",
   "name": "python3"
  },
  "language_info": {
   "codemirror_mode": {
    "name": "ipython",
    "version": 3
   },
   "file_extension": ".py",
   "mimetype": "text/x-python",
   "name": "python",
   "nbconvert_exporter": "python",
   "pygments_lexer": "ipython3",
   "version": "3.13.5"
  }
 },
 "nbformat": 4,
 "nbformat_minor": 5
}
