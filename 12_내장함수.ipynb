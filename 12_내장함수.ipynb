{
 "cells": [
  {
   "cell_type": "markdown",
   "id": "5159fbda-39f6-40c8-af32-e538eff74f01",
   "metadata": {},
   "source": [
    "abs() : 절댓값"
   ]
  },
  {
   "cell_type": "code",
   "execution_count": 2,
   "id": "b19e3e7d-0dd8-4de1-9a5e-c7cbbce73385",
   "metadata": {},
   "outputs": [
    {
     "name": "stdout",
     "output_type": "stream",
     "text": [
      "3\n",
      "3\n"
     ]
    }
   ],
   "source": [
    "print(abs(3))\n",
    "print(abs(-3))"
   ]
  },
  {
   "cell_type": "markdown",
   "id": "560649b7-1a34-4192-b0b6-c50f41c4670f",
   "metadata": {},
   "source": [
    "all() : 반복 가능한 데이터에서 각 요소 확인하여 모든 요소가 참이면 True  "
   ]
  },
  {
   "cell_type": "code",
   "execution_count": 4,
   "id": "92ddd994-4e11-4a34-9b6c-e6557cb23ba6",
   "metadata": {},
   "outputs": [
    {
     "data": {
      "text/plain": [
       "True"
      ]
     },
     "execution_count": 4,
     "metadata": {},
     "output_type": "execute_result"
    }
   ],
   "source": [
    "all([1,2,3])"
   ]
  },
  {
   "cell_type": "code",
   "execution_count": 10,
   "id": "829e5ddc-8cda-4249-b2ed-2e812ad92c7c",
   "metadata": {},
   "outputs": [
    {
     "data": {
      "text/plain": [
       "False"
      ]
     },
     "execution_count": 10,
     "metadata": {},
     "output_type": "execute_result"
    }
   ],
   "source": [
    "all(([], 1,2,3))"
   ]
  },
  {
   "cell_type": "code",
   "execution_count": 8,
   "id": "f357cf80-ec9b-444e-80e9-8f8dfcd4b19f",
   "metadata": {},
   "outputs": [
    {
     "data": {
      "text/plain": [
       "True"
      ]
     },
     "execution_count": 8,
     "metadata": {},
     "output_type": "execute_result"
    }
   ],
   "source": [
    "all([]) # 빈 값인 경우 True"
   ]
  },
  {
   "cell_type": "code",
   "execution_count": 9,
   "id": "ea185ace-2943-4257-a47f-21250386ec37",
   "metadata": {},
   "outputs": [
    {
     "data": {
      "text/plain": [
       "True"
      ]
     },
     "execution_count": 9,
     "metadata": {},
     "output_type": "execute_result"
    }
   ],
   "source": [
    "all(\"\") # 빈 값인 경우 True"
   ]
  },
  {
   "cell_type": "markdown",
   "id": "01f82f6f-3a3d-4457-aed1-dcf962106eb6",
   "metadata": {},
   "source": [
    "any() : 반복 가능한 데이터에서 각 요소에 하나라도 참이면 True\n",
    "\n",
    "all()하고 반대로 동작"
   ]
  },
  {
   "cell_type": "code",
   "execution_count": 12,
   "id": "7f38e07d-b598-4861-a917-4f93f2ea4102",
   "metadata": {},
   "outputs": [
    {
     "data": {
      "text/plain": [
       "True"
      ]
     },
     "execution_count": 12,
     "metadata": {},
     "output_type": "execute_result"
    }
   ],
   "source": [
    "any([1,0])"
   ]
  },
  {
   "cell_type": "code",
   "execution_count": 13,
   "id": "d40e59d1-7f7e-4543-97d7-cea5a6a37f72",
   "metadata": {},
   "outputs": [
    {
     "data": {
      "text/plain": [
       "False"
      ]
     },
     "execution_count": 13,
     "metadata": {},
     "output_type": "execute_result"
    }
   ],
   "source": [
    "any([0,\"\"])"
   ]
  },
  {
   "cell_type": "code",
   "execution_count": 15,
   "id": "a987a437-6d52-41a8-bde2-5966ab468154",
   "metadata": {},
   "outputs": [
    {
     "data": {
      "text/plain": [
       "False"
      ]
     },
     "execution_count": 15,
     "metadata": {},
     "output_type": "execute_result"
    }
   ],
   "source": [
    "any([]) # 빈 값은 False"
   ]
  },
  {
   "cell_type": "markdown",
   "id": "583ff318-74ab-4dee-a5d9-9953b50299b4",
   "metadata": {},
   "source": [
    "chr() : 유니코드 값 반환"
   ]
  },
  {
   "cell_type": "code",
   "execution_count": 16,
   "id": "3b7fabaf-6d96-48db-bda3-bc4c659ded2a",
   "metadata": {},
   "outputs": [
    {
     "data": {
      "text/plain": [
       "'a'"
      ]
     },
     "execution_count": 16,
     "metadata": {},
     "output_type": "execute_result"
    }
   ],
   "source": [
    "chr(97)"
   ]
  },
  {
   "cell_type": "code",
   "execution_count": 17,
   "id": "df0d348c-c68d-4673-8be1-cc04d4478e2b",
   "metadata": {},
   "outputs": [
    {
     "data": {
      "text/plain": [
       "'A'"
      ]
     },
     "execution_count": 17,
     "metadata": {},
     "output_type": "execute_result"
    }
   ],
   "source": [
    "chr(65)"
   ]
  },
  {
   "cell_type": "code",
   "execution_count": 18,
   "id": "da1d96c0-4fcc-483a-8c5f-fb02bb987412",
   "metadata": {},
   "outputs": [
    {
     "data": {
      "text/plain": [
       "'가'"
      ]
     },
     "execution_count": 18,
     "metadata": {},
     "output_type": "execute_result"
    }
   ],
   "source": [
    "chr(44032)"
   ]
  },
  {
   "cell_type": "code",
   "execution_count": 19,
   "id": "d93df6cf-d044-4207-b157-7d7acfa59664",
   "metadata": {},
   "outputs": [
    {
     "data": {
      "text/plain": [
       "'각'"
      ]
     },
     "execution_count": 19,
     "metadata": {},
     "output_type": "execute_result"
    }
   ],
   "source": [
    "chr(44033)"
   ]
  },
  {
   "cell_type": "markdown",
   "id": "97b0f912-a9e6-4685-a5fe-7ebcc78d06d6",
   "metadata": {},
   "source": [
    "dir() : 객체가 지닌 변수나 함수를 보여주는 함수"
   ]
  },
  {
   "cell_type": "code",
   "execution_count": 20,
   "id": "73df0dc1-f8b7-46ed-b1bb-3b3bee591268",
   "metadata": {},
   "outputs": [
    {
     "data": {
      "text/plain": [
       "['__add__',\n",
       " '__class__',\n",
       " '__class_getitem__',\n",
       " '__contains__',\n",
       " '__delattr__',\n",
       " '__delitem__',\n",
       " '__dir__',\n",
       " '__doc__',\n",
       " '__eq__',\n",
       " '__format__',\n",
       " '__ge__',\n",
       " '__getattribute__',\n",
       " '__getitem__',\n",
       " '__getstate__',\n",
       " '__gt__',\n",
       " '__hash__',\n",
       " '__iadd__',\n",
       " '__imul__',\n",
       " '__init__',\n",
       " '__init_subclass__',\n",
       " '__iter__',\n",
       " '__le__',\n",
       " '__len__',\n",
       " '__lt__',\n",
       " '__mul__',\n",
       " '__ne__',\n",
       " '__new__',\n",
       " '__reduce__',\n",
       " '__reduce_ex__',\n",
       " '__repr__',\n",
       " '__reversed__',\n",
       " '__rmul__',\n",
       " '__setattr__',\n",
       " '__setitem__',\n",
       " '__sizeof__',\n",
       " '__str__',\n",
       " '__subclasshook__',\n",
       " 'append',\n",
       " 'clear',\n",
       " 'copy',\n",
       " 'count',\n",
       " 'extend',\n",
       " 'index',\n",
       " 'insert',\n",
       " 'pop',\n",
       " 'remove',\n",
       " 'reverse',\n",
       " 'sort']"
      ]
     },
     "execution_count": 20,
     "metadata": {},
     "output_type": "execute_result"
    }
   ],
   "source": [
    "dir([1,2,3])"
   ]
  },
  {
   "cell_type": "code",
   "execution_count": 22,
   "id": "0d5bec22-59d7-4715-8de0-3d4e934a87be",
   "metadata": {},
   "outputs": [
    {
     "data": {
      "text/plain": [
       "['__add__',\n",
       " '__class__',\n",
       " '__contains__',\n",
       " '__delattr__',\n",
       " '__dir__',\n",
       " '__doc__',\n",
       " '__eq__',\n",
       " '__format__',\n",
       " '__ge__',\n",
       " '__getattribute__',\n",
       " '__getitem__',\n",
       " '__getnewargs__',\n",
       " '__getstate__',\n",
       " '__gt__',\n",
       " '__hash__',\n",
       " '__init__',\n",
       " '__init_subclass__',\n",
       " '__iter__',\n",
       " '__le__',\n",
       " '__len__',\n",
       " '__lt__',\n",
       " '__mod__',\n",
       " '__mul__',\n",
       " '__ne__',\n",
       " '__new__',\n",
       " '__reduce__',\n",
       " '__reduce_ex__',\n",
       " '__repr__',\n",
       " '__rmod__',\n",
       " '__rmul__',\n",
       " '__setattr__',\n",
       " '__sizeof__',\n",
       " '__str__',\n",
       " '__subclasshook__',\n",
       " 'capitalize',\n",
       " 'casefold',\n",
       " 'center',\n",
       " 'count',\n",
       " 'encode',\n",
       " 'endswith',\n",
       " 'expandtabs',\n",
       " 'find',\n",
       " 'format',\n",
       " 'format_map',\n",
       " 'index',\n",
       " 'isalnum',\n",
       " 'isalpha',\n",
       " 'isascii',\n",
       " 'isdecimal',\n",
       " 'isdigit',\n",
       " 'isidentifier',\n",
       " 'islower',\n",
       " 'isnumeric',\n",
       " 'isprintable',\n",
       " 'isspace',\n",
       " 'istitle',\n",
       " 'isupper',\n",
       " 'join',\n",
       " 'ljust',\n",
       " 'lower',\n",
       " 'lstrip',\n",
       " 'maketrans',\n",
       " 'partition',\n",
       " 'removeprefix',\n",
       " 'removesuffix',\n",
       " 'replace',\n",
       " 'rfind',\n",
       " 'rindex',\n",
       " 'rjust',\n",
       " 'rpartition',\n",
       " 'rsplit',\n",
       " 'rstrip',\n",
       " 'split',\n",
       " 'splitlines',\n",
       " 'startswith',\n",
       " 'strip',\n",
       " 'swapcase',\n",
       " 'title',\n",
       " 'translate',\n",
       " 'upper',\n",
       " 'zfill']"
      ]
     },
     "execution_count": 22,
     "metadata": {},
     "output_type": "execute_result"
    }
   ],
   "source": [
    "dir(\"\")"
   ]
  },
  {
   "cell_type": "code",
   "execution_count": 23,
   "id": "cc42f35b-5072-4899-bded-d01a64fc7929",
   "metadata": {},
   "outputs": [
    {
     "data": {
      "text/plain": [
       "['__class__',\n",
       " '__class_getitem__',\n",
       " '__contains__',\n",
       " '__delattr__',\n",
       " '__delitem__',\n",
       " '__dir__',\n",
       " '__doc__',\n",
       " '__eq__',\n",
       " '__format__',\n",
       " '__ge__',\n",
       " '__getattribute__',\n",
       " '__getitem__',\n",
       " '__getstate__',\n",
       " '__gt__',\n",
       " '__hash__',\n",
       " '__init__',\n",
       " '__init_subclass__',\n",
       " '__ior__',\n",
       " '__iter__',\n",
       " '__le__',\n",
       " '__len__',\n",
       " '__lt__',\n",
       " '__ne__',\n",
       " '__new__',\n",
       " '__or__',\n",
       " '__reduce__',\n",
       " '__reduce_ex__',\n",
       " '__repr__',\n",
       " '__reversed__',\n",
       " '__ror__',\n",
       " '__setattr__',\n",
       " '__setitem__',\n",
       " '__sizeof__',\n",
       " '__str__',\n",
       " '__subclasshook__',\n",
       " 'clear',\n",
       " 'copy',\n",
       " 'fromkeys',\n",
       " 'get',\n",
       " 'items',\n",
       " 'keys',\n",
       " 'pop',\n",
       " 'popitem',\n",
       " 'setdefault',\n",
       " 'update',\n",
       " 'values']"
      ]
     },
     "execution_count": 23,
     "metadata": {},
     "output_type": "execute_result"
    }
   ],
   "source": [
    "dir({})"
   ]
  },
  {
   "cell_type": "markdown",
   "id": "f5e4bb31-f68e-4f71-98a6-119351dd9356",
   "metadata": {},
   "source": [
    "divmod() : 두 수 나누기 후 몫과 나머지를 튜플로 반환"
   ]
  },
  {
   "cell_type": "code",
   "execution_count": 24,
   "id": "9b2095d1-e655-4a69-8341-d28816f2ffa8",
   "metadata": {},
   "outputs": [
    {
     "data": {
      "text/plain": [
       "(2, 1)"
      ]
     },
     "execution_count": 24,
     "metadata": {},
     "output_type": "execute_result"
    }
   ],
   "source": [
    "divmod(7,3)"
   ]
  },
  {
   "cell_type": "code",
   "execution_count": 25,
   "id": "8a0150b2-b05a-47b8-aaae-189999cee4e5",
   "metadata": {},
   "outputs": [
    {
     "data": {
      "text/plain": [
       "2"
      ]
     },
     "execution_count": 25,
     "metadata": {},
     "output_type": "execute_result"
    }
   ],
   "source": [
    "7//3"
   ]
  },
  {
   "cell_type": "code",
   "execution_count": 26,
   "id": "c69e2aac-6240-4f08-9f23-07a57ac2d70e",
   "metadata": {},
   "outputs": [
    {
     "data": {
      "text/plain": [
       "1"
      ]
     },
     "execution_count": 26,
     "metadata": {},
     "output_type": "execute_result"
    }
   ],
   "source": [
    "7%3"
   ]
  },
  {
   "cell_type": "markdown",
   "id": "5667167c-3bde-4c80-928a-7008631293a5",
   "metadata": {},
   "source": [
    "enumerate() : 순서가 있는 데이터의 인덱스 값을 포함하는 enumerate객체를 리턴 "
   ]
  },
  {
   "cell_type": "code",
   "execution_count": 27,
   "id": "0e442a56-664d-439b-bdc2-a057523ebcbe",
   "metadata": {},
   "outputs": [
    {
     "name": "stdout",
     "output_type": "stream",
     "text": [
      "0 body\n",
      "1 foo\n",
      "2 bar\n"
     ]
    }
   ],
   "source": [
    "for i, name in enumerate(['body','foo','bar']):\n",
    "    print(i,name) "
   ]
  },
  {
   "cell_type": "code",
   "execution_count": 37,
   "id": "598ffb24-d010-46e0-bc0a-2ac6396c26ae",
   "metadata": {},
   "outputs": [
    {
     "name": "stdout",
     "output_type": "stream",
     "text": [
      "0 ('a', 1)\n",
      "1 ('b', 2)\n",
      "2 ('c', 3)\n"
     ]
    }
   ],
   "source": [
    "for i, item in enumerate({'a': 1, 'b': 2, 'c': 3}.items()):\n",
    "    print(i, item) # [('a': 1, ('b': 2, 'c': 3))]"
   ]
  },
  {
   "cell_type": "markdown",
   "id": "28aba0b0-1108-4492-9eb6-3790f6967da6",
   "metadata": {},
   "source": [
    "eval() : 표현식(문자열)을 실행한 결과값을 리턴"
   ]
  },
  {
   "cell_type": "code",
   "execution_count": 31,
   "id": "e5b18096-8415-4909-aba9-c7a20009d0af",
   "metadata": {},
   "outputs": [
    {
     "name": "stdout",
     "output_type": "stream",
     "text": [
      "1+2\n"
     ]
    }
   ],
   "source": [
    "print(\"1+2\")"
   ]
  },
  {
   "cell_type": "code",
   "execution_count": 32,
   "id": "fe98a798-80e9-4368-8d13-858dd7940b28",
   "metadata": {},
   "outputs": [
    {
     "name": "stdout",
     "output_type": "stream",
     "text": [
      "3\n"
     ]
    }
   ],
   "source": [
    "print(eval(\"1+2\"))"
   ]
  },
  {
   "cell_type": "code",
   "execution_count": 33,
   "id": "334b57a7-199d-43ed-877d-1c67d23b25b0",
   "metadata": {},
   "outputs": [
    {
     "data": {
      "text/plain": [
       "'hia'"
      ]
     },
     "execution_count": 33,
     "metadata": {},
     "output_type": "execute_result"
    }
   ],
   "source": [
    "eval(\"'hi' + 'a'\")"
   ]
  },
  {
   "cell_type": "markdown",
   "id": "e9f02f14-3558-4999-ba7e-7eb6efd312d3",
   "metadata": {},
   "source": [
    "filter() : filter안에서 정의한 함수의 결과값이 참인 것만 반환 "
   ]
  },
  {
   "cell_type": "code",
   "execution_count": 38,
   "id": "f593053b-e2ed-46d4-b5e2-7d9fb74202f0",
   "metadata": {},
   "outputs": [
    {
     "name": "stdout",
     "output_type": "stream",
     "text": [
      "[1, 2, 6]\n"
     ]
    }
   ],
   "source": [
    "# 일반함수로 양수값만 리턴\n",
    "def positive(list):\n",
    "    result = []\n",
    "    for i in list:\n",
    "        if i>0:\n",
    "            result.append(i)\n",
    "    return result\n",
    "    \n",
    "print(positive([1,-3,2,0,-5,6]))"
   ]
  },
  {
   "cell_type": "code",
   "execution_count": 40,
   "id": "55e4fee1-2eae-495d-80e9-063f1516927f",
   "metadata": {},
   "outputs": [
    {
     "name": "stdout",
     "output_type": "stream",
     "text": [
      "[1, 2, 6]\n"
     ]
    }
   ],
   "source": [
    "# filter함수로 양수값만 반환\n",
    "def positive(x):\n",
    "    return x>0\n",
    "\n",
    "print(list(filter(positive, [1,-3,2,0,-5,6])))"
   ]
  },
  {
   "cell_type": "code",
   "execution_count": 41,
   "id": "05c7c630-5ec8-48d8-a11c-f543069dd160",
   "metadata": {},
   "outputs": [
    {
     "data": {
      "text/plain": [
       "[1, 2, 6]"
      ]
     },
     "execution_count": 41,
     "metadata": {},
     "output_type": "execute_result"
    }
   ],
   "source": [
    "# lambda함수 사용\n",
    "list(filter(lambda x: x>0, [1,-3,2,0,-5,6]))"
   ]
  },
  {
   "cell_type": "markdown",
   "id": "56dc960e-3261-431b-93e8-974708c02c5f",
   "metadata": {},
   "source": [
    "map() : map안에서 선언한 함수의 결과값을 반환"
   ]
  },
  {
   "cell_type": "code",
   "execution_count": 42,
   "id": "131bf975-4bda-404f-94d2-105842e12de8",
   "metadata": {},
   "outputs": [
    {
     "name": "stdout",
     "output_type": "stream",
     "text": [
      "[2, 4, 6, 8]\n"
     ]
    }
   ],
   "source": [
    "# 일반함수로 리스트에 각 요소에 *2\n",
    "def two_times(list):\n",
    "    result = []\n",
    "    for i in list:\n",
    "        result.append(i*2)\n",
    "    return result\n",
    "\n",
    "print(two_times([1,2,3,4]))"
   ]
  },
  {
   "cell_type": "code",
   "execution_count": 44,
   "id": "e6d698b7-772b-4d27-a77c-8f183f7d9952",
   "metadata": {},
   "outputs": [
    {
     "data": {
      "text/plain": [
       "[2, 4, 6, 8]"
      ]
     },
     "execution_count": 44,
     "metadata": {},
     "output_type": "execute_result"
    }
   ],
   "source": [
    "# map함수로 리스트 각 요소에 *2\n",
    "def two_times(x):\n",
    "    return x*2\n",
    "\n",
    "list(map(two_times, [1,2,3,4]))"
   ]
  },
  {
   "cell_type": "code",
   "execution_count": 45,
   "id": "56bc8652-e5a0-4267-b5ff-359632e12a55",
   "metadata": {},
   "outputs": [
    {
     "data": {
      "text/plain": [
       "[2, 4, 6, 8]"
      ]
     },
     "execution_count": 45,
     "metadata": {},
     "output_type": "execute_result"
    }
   ],
   "source": [
    "# lambda 함수로 \n",
    "list(map(lambda x:x*2,[1,2,3,4]))"
   ]
  },
  {
   "cell_type": "markdown",
   "id": "ae069a51-f6aa-4133-811c-bc345413cb02",
   "metadata": {},
   "source": [
    "hex() : 정수 입력받아 16진수로"
   ]
  },
  {
   "cell_type": "code",
   "execution_count": 47,
   "id": "383a674c-624b-470b-89c1-94805e038266",
   "metadata": {},
   "outputs": [
    {
     "name": "stdout",
     "output_type": "stream",
     "text": [
      "0xea\n",
      "0x3\n",
      "0xd\n",
      "0x10\n"
     ]
    }
   ],
   "source": [
    "print(hex(234))\n",
    "print(hex(3))\n",
    "print(hex(13))\n",
    "print(hex(16))"
   ]
  },
  {
   "cell_type": "markdown",
   "id": "0cbeede9-64cb-4ab5-8e5c-65a5dcdb57bc",
   "metadata": {},
   "source": [
    "id() : 객체의 주소값 확인"
   ]
  },
  {
   "cell_type": "code",
   "execution_count": 50,
   "id": "08aef1ec-a8c1-4361-9979-52053b317103",
   "metadata": {},
   "outputs": [],
   "source": [
    "a = 3"
   ]
  },
  {
   "cell_type": "code",
   "execution_count": 51,
   "id": "8278a913-94c7-4eb8-8e07-800521dfc393",
   "metadata": {},
   "outputs": [
    {
     "data": {
      "text/plain": [
       "140707634263016"
      ]
     },
     "execution_count": 51,
     "metadata": {},
     "output_type": "execute_result"
    }
   ],
   "source": [
    "id(a)"
   ]
  },
  {
   "cell_type": "code",
   "execution_count": 62,
   "id": "6ed58cbe-13b6-4b42-bdb3-5a959ec37c92",
   "metadata": {},
   "outputs": [
    {
     "data": {
      "text/plain": [
       "140707634263080"
      ]
     },
     "execution_count": 62,
     "metadata": {},
     "output_type": "execute_result"
    }
   ],
   "source": [
    "id(5)"
   ]
  },
  {
   "cell_type": "markdown",
   "id": "9f33524e-9d7e-43bd-962a-2fa9a4a296e3",
   "metadata": {},
   "source": [
    "isinstance() : 객체가 그 클래스의 인스턴스인지 판단"
   ]
  },
  {
   "cell_type": "code",
   "execution_count": 58,
   "id": "3f85ea9f-86ad-4e82-b891-f3d20b3c85ae",
   "metadata": {},
   "outputs": [
    {
     "name": "stdout",
     "output_type": "stream",
     "text": [
      "True\n"
     ]
    }
   ],
   "source": [
    "class person: pass\n",
    "\n",
    "a = person() # a는 person의 인스턴스\n",
    "print(isinstance(a, person))"
   ]
  },
  {
   "cell_type": "code",
   "execution_count": 61,
   "id": "b0e92ea4-2c38-4333-846d-f0d2e5329edd",
   "metadata": {},
   "outputs": [
    {
     "data": {
      "text/plain": [
       "False"
      ]
     },
     "execution_count": 61,
     "metadata": {},
     "output_type": "execute_result"
    }
   ],
   "source": [
    "b = 3\n",
    "isinstance(b, person)"
   ]
  },
  {
   "cell_type": "markdown",
   "id": "880d4f95-70cd-4e97-8b04-47630d8dc045",
   "metadata": {},
   "source": [
    "max() : 최대값, min() : 최솟값"
   ]
  },
  {
   "cell_type": "code",
   "execution_count": 63,
   "id": "dc95160f-a035-481a-9c3a-40c778c465c7",
   "metadata": {},
   "outputs": [
    {
     "name": "stdout",
     "output_type": "stream",
     "text": [
      "3\n",
      "y\n"
     ]
    }
   ],
   "source": [
    "print(max([1,2,3]))\n",
    "print(max(\"python\"))"
   ]
  },
  {
   "cell_type": "code",
   "execution_count": 64,
   "id": "b7c4903d-0cb6-477f-98f6-02d810fe734f",
   "metadata": {},
   "outputs": [
    {
     "name": "stdout",
     "output_type": "stream",
     "text": [
      "1\n",
      "h\n"
     ]
    }
   ],
   "source": [
    "print(min([1,2,3]))\n",
    "print(min(\"python\"))"
   ]
  },
  {
   "cell_type": "markdown",
   "id": "287eaeb7-a021-4cbc-bed2-94d785011ae2",
   "metadata": {},
   "source": [
    "ord() : chr()반대, 문자를 전달인자로 넣으면 유니코드 값 반환"
   ]
  },
  {
   "cell_type": "code",
   "execution_count": 65,
   "id": "550e20de-98bb-4fe0-ba8b-ddc947bc4440",
   "metadata": {},
   "outputs": [
    {
     "name": "stdout",
     "output_type": "stream",
     "text": [
      "97\n",
      "65\n",
      "48\n"
     ]
    }
   ],
   "source": [
    "print(ord('a'))\n",
    "print(ord('A'))\n",
    "print(ord('0'))"
   ]
  },
  {
   "cell_type": "markdown",
   "id": "9eb8d2c0-7dc2-4403-b54d-15b1147f4511",
   "metadata": {},
   "source": [
    "range() : 범위값을 반복 가능한 객체로 만들어 반환"
   ]
  },
  {
   "cell_type": "code",
   "execution_count": 66,
   "id": "06859116-34eb-4311-a383-5b5bb5089dfd",
   "metadata": {},
   "outputs": [
    {
     "data": {
      "text/plain": [
       "[0, 1, 2, 3, 4]"
      ]
     },
     "execution_count": 66,
     "metadata": {},
     "output_type": "execute_result"
    }
   ],
   "source": [
    "# 인수가 하나일 때\n",
    "list(range(5))"
   ]
  },
  {
   "cell_type": "code",
   "execution_count": 67,
   "id": "4e680b1f-c244-444c-9f92-131d028875fa",
   "metadata": {},
   "outputs": [
    {
     "data": {
      "text/plain": [
       "[5, 6, 7, 8, 9]"
      ]
     },
     "execution_count": 67,
     "metadata": {},
     "output_type": "execute_result"
    }
   ],
   "source": [
    "# 인수가 두개일 때\n",
    "list(range(5,10))"
   ]
  },
  {
   "cell_type": "code",
   "execution_count": 68,
   "id": "8600610d-1b25-42ec-9e4a-859d7b4d947b",
   "metadata": {},
   "outputs": [
    {
     "data": {
      "text/plain": [
       "[1, 3, 5, 7, 9]"
      ]
     },
     "execution_count": 68,
     "metadata": {},
     "output_type": "execute_result"
    }
   ],
   "source": [
    "# 인수가 3개일 때\n",
    "list(range(1,10,2))"
   ]
  },
  {
   "cell_type": "code",
   "execution_count": 69,
   "id": "4c107ac1-ba3c-4d6f-b79e-2762a6b4db61",
   "metadata": {},
   "outputs": [
    {
     "data": {
      "text/plain": [
       "[0, -1, -2, -3, -4, -5, -6, -7, -8, -9]"
      ]
     },
     "execution_count": 69,
     "metadata": {},
     "output_type": "execute_result"
    }
   ],
   "source": [
    "list(range(0,-10,-1))"
   ]
  },
  {
   "cell_type": "markdown",
   "id": "464e2746-6fb7-4b34-bf62-c467a5ac7c3a",
   "metadata": {},
   "source": [
    "sortad() : 정렬한 결과를 리스트로 반환"
   ]
  },
  {
   "cell_type": "code",
   "execution_count": 70,
   "id": "440325b7-31bf-4407-a5fa-8b29e6a1c504",
   "metadata": {},
   "outputs": [
    {
     "data": {
      "text/plain": [
       "[1, 2, 3]"
      ]
     },
     "execution_count": 70,
     "metadata": {},
     "output_type": "execute_result"
    }
   ],
   "source": [
    "sorted([3,1,2])"
   ]
  },
  {
   "cell_type": "code",
   "execution_count": 73,
   "id": "2b62efed-1c4f-4ba1-bf16-44da9377f726",
   "metadata": {},
   "outputs": [
    {
     "data": {
      "text/plain": [
       "['a', 'b', 'c']"
      ]
     },
     "execution_count": 73,
     "metadata": {},
     "output_type": "execute_result"
    }
   ],
   "source": [
    "sorted(['c','a','b'])"
   ]
  },
  {
   "cell_type": "code",
   "execution_count": 74,
   "id": "0bc83f4a-a562-4337-8df1-a806fd5af3fc",
   "metadata": {},
   "outputs": [
    {
     "data": {
      "text/plain": [
       "['e', 'o', 'r', 'z']"
      ]
     },
     "execution_count": 74,
     "metadata": {},
     "output_type": "execute_result"
    }
   ],
   "source": [
    "sorted(\"zero\")"
   ]
  },
  {
   "cell_type": "markdown",
   "id": "85317e49-a895-4900-8fc6-b8343b1ede8e",
   "metadata": {},
   "source": [
    "zip() : 동일한 개수로 이루어진 반복되는 데이터들을 묶어서 리턴"
   ]
  },
  {
   "cell_type": "code",
   "execution_count": 76,
   "id": "cae0161e-2dd2-487b-8866-d157285ef378",
   "metadata": {},
   "outputs": [
    {
     "data": {
      "text/plain": [
       "[(1, 2), (2, 3), (3, 4)]"
      ]
     },
     "execution_count": 76,
     "metadata": {},
     "output_type": "execute_result"
    }
   ],
   "source": [
    "list(zip([1,2,3], [2,3,4]))"
   ]
  },
  {
   "cell_type": "code",
   "execution_count": 77,
   "id": "cb100286-62c9-4b51-9577-cd651802bdf6",
   "metadata": {},
   "outputs": [
    {
     "data": {
      "text/plain": [
       "[(1, 6), (2, 7), (3, 8)]"
      ]
     },
     "execution_count": 77,
     "metadata": {},
     "output_type": "execute_result"
    }
   ],
   "source": [
    "list(zip([1,2,3,4,5], [6,7,8]))"
   ]
  },
  {
   "cell_type": "code",
   "execution_count": 78,
   "id": "4d6f59ac-cc2b-4c8e-a996-293760b146b7",
   "metadata": {},
   "outputs": [
    {
     "data": {
      "text/plain": [
       "[('a', 'd'), ('b', 'e'), ('c', 'f')]"
      ]
     },
     "execution_count": 78,
     "metadata": {},
     "output_type": "execute_result"
    }
   ],
   "source": [
    "list(zip(\"abc\", \"def\"))"
   ]
  },
  {
   "cell_type": "code",
   "execution_count": 81,
   "id": "7b79028e-61a7-41de-9245-eb4718677739",
   "metadata": {},
   "outputs": [
    {
     "data": {
      "text/plain": [
       "[(1, 4), (2, 5), (3, 6)]"
      ]
     },
     "execution_count": 81,
     "metadata": {},
     "output_type": "execute_result"
    }
   ],
   "source": [
    "list(zip((1,2,3), (4,5,6)))"
   ]
  },
  {
   "cell_type": "code",
   "execution_count": null,
   "id": "9a3cb690-da64-4cac-921f-000ec8b8f0f0",
   "metadata": {},
   "outputs": [],
   "source": []
  }
 ],
 "metadata": {
  "kernelspec": {
   "display_name": "Python 3 (ipykernel)",
   "language": "python",
   "name": "python3"
  },
  "language_info": {
   "codemirror_mode": {
    "name": "ipython",
    "version": 3
   },
   "file_extension": ".py",
   "mimetype": "text/x-python",
   "name": "python",
   "nbconvert_exporter": "python",
   "pygments_lexer": "ipython3",
   "version": "3.13.5"
  }
 },
 "nbformat": 4,
 "nbformat_minor": 5
}
