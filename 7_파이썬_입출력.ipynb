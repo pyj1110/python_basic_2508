{
 "cells": [
  {
   "cell_type": "markdown",
   "id": "98b41412-dd3f-47b7-9964-babc67469420",
   "metadata": {},
   "source": [
    "## 1. 사용자 입출력"
   ]
  },
  {
   "cell_type": "markdown",
   "id": "2d1213ad-1be4-436d-b020-934df15ced6a",
   "metadata": {},
   "source": [
    "### 1) 사용자 입력"
   ]
  },
  {
   "cell_type": "code",
   "execution_count": 1,
   "id": "a51a65ed-518f-4de6-9d0b-82e1766dc4ca",
   "metadata": {},
   "outputs": [
    {
     "name": "stdin",
     "output_type": "stream",
     "text": [
      " Life is too short, you need python\n"
     ]
    }
   ],
   "source": [
    "a = input()"
   ]
  },
  {
   "cell_type": "code",
   "execution_count": 2,
   "id": "b383364a-0b15-4c3a-a909-a9291856f820",
   "metadata": {},
   "outputs": [
    {
     "name": "stdout",
     "output_type": "stream",
     "text": [
      "Life is too short, you need python\n"
     ]
    }
   ],
   "source": [
    "print(a)"
   ]
  },
  {
   "cell_type": "code",
   "execution_count": 5,
   "id": "37cece4d-754c-4572-80bd-860a43cd0880",
   "metadata": {},
   "outputs": [
    {
     "name": "stdin",
     "output_type": "stream",
     "text": [
      " 100\n"
     ]
    }
   ],
   "source": [
    "num = input()"
   ]
  },
  {
   "cell_type": "code",
   "execution_count": 6,
   "id": "45867a58-3a79-4c8b-a961-adb613143bea",
   "metadata": {},
   "outputs": [
    {
     "name": "stdout",
     "output_type": "stream",
     "text": [
      "100\n"
     ]
    }
   ],
   "source": [
    "print(num)"
   ]
  },
  {
   "cell_type": "code",
   "execution_count": 7,
   "id": "501291e4-357e-438b-a917-2bfb3d141834",
   "metadata": {},
   "outputs": [
    {
     "data": {
      "text/plain": [
       "str"
      ]
     },
     "execution_count": 7,
     "metadata": {},
     "output_type": "execute_result"
    }
   ],
   "source": [
    "type(num) # input에 입력한 모든 것은 문자열!!!"
   ]
  },
  {
   "cell_type": "markdown",
   "id": "3a47ab5e-56e4-4bed-80b5-a66665c9a8f1",
   "metadata": {},
   "source": [
    "### 2) print() 자세히 알기"
   ]
  },
  {
   "cell_type": "code",
   "execution_count": 8,
   "id": "9080d983-04d7-47ce-b948-ab4ea2cc9f52",
   "metadata": {},
   "outputs": [
    {
     "name": "stdout",
     "output_type": "stream",
     "text": [
      "123\n",
      "python\n",
      "[1, 2, 3]\n"
     ]
    }
   ],
   "source": [
    "a = 123\n",
    "print(a)\n",
    "b = \"python\"\n",
    "print(b)\n",
    "c = [1,2,3]\n",
    "print(c)"
   ]
  },
  {
   "cell_type": "code",
   "execution_count": 11,
   "id": "13e6521f-1d6f-4cfa-8c17-3a45af0a20b0",
   "metadata": {},
   "outputs": [
    {
     "name": "stdout",
     "output_type": "stream",
     "text": [
      "life is too short\n",
      "life is too short\n",
      "life is too short\n"
     ]
    }
   ],
   "source": [
    "# 문자열과 +연산자로 출력\n",
    "print(\"life\"\" is\"\" too short\")\n",
    "print(\"life\"+\" is\"+\" too short\")\n",
    "print('life'' is'' too short')"
   ]
  },
  {
   "cell_type": "code",
   "execution_count": 12,
   "id": "40384e6a-4a95-42bd-ab96-559768bbd994",
   "metadata": {},
   "outputs": [
    {
     "name": "stdout",
     "output_type": "stream",
     "text": [
      "life is too short\n"
     ]
    }
   ],
   "source": [
    "# 문자열 띄어쓰기는 쉼표로\n",
    "print(\"life\",\"is\",\"too short\")"
   ]
  },
  {
   "cell_type": "code",
   "execution_count": 13,
   "id": "823442c5-231a-4551-af11-385af8baa88d",
   "metadata": {},
   "outputs": [
    {
     "name": "stdout",
     "output_type": "stream",
     "text": [
      "0\n",
      "1\n",
      "2\n",
      "3\n",
      "4\n",
      "5\n",
      "6\n",
      "7\n",
      "8\n",
      "9\n"
     ]
    }
   ],
   "source": [
    "for i in range(10):\n",
    "    print(i)"
   ]
  },
  {
   "cell_type": "code",
   "execution_count": 14,
   "id": "1bb0f418-f28b-4a83-ab0d-868b5f349087",
   "metadata": {},
   "outputs": [
    {
     "name": "stdout",
     "output_type": "stream",
     "text": [
      "0 1 2 3 4 5 6 7 8 9 "
     ]
    }
   ],
   "source": [
    "# 한 줄에 값 출력\n",
    "for i in range(10):\n",
    "    print(i, end=\" \")"
   ]
  },
  {
   "cell_type": "markdown",
   "id": "4a3850aa-92f3-4dd5-948b-3999e935aa89",
   "metadata": {},
   "source": [
    "## 2. 파일 읽고 쓰기"
   ]
  },
  {
   "cell_type": "markdown",
   "id": "6ca71dc0-8150-4759-8c1b-49d12e46502e",
   "metadata": {},
   "source": [
    "## 1) 파일 생성하기"
   ]
  },
  {
   "cell_type": "code",
   "execution_count": 15,
   "id": "69c14612-f5fa-4e38-999d-699f21728bb7",
   "metadata": {},
   "outputs": [],
   "source": [
    "f = open('newfile.txt', 'w')"
   ]
  },
  {
   "cell_type": "code",
   "execution_count": 16,
   "id": "7be64961-dbd8-46a9-9422-037c7b84e345",
   "metadata": {},
   "outputs": [],
   "source": [
    "f.close()"
   ]
  },
  {
   "cell_type": "code",
   "execution_count": 17,
   "id": "68726184-6d5e-4a3b-ac7f-f5fc6800ab50",
   "metadata": {},
   "outputs": [],
   "source": [
    "# 특정 경로에서 파일 생성\n",
    "f = open('C:\\\\Users\\\\WD\\\\python_basic\\\\newfile2.txt', 'w')"
   ]
  },
  {
   "cell_type": "code",
   "execution_count": 18,
   "id": "1fc44066-8002-4f95-9155-a930d4ff2eb5",
   "metadata": {},
   "outputs": [],
   "source": [
    "f.close()"
   ]
  },
  {
   "cell_type": "markdown",
   "id": "6b89b40d-6f29-4afa-bd27-dc8bf382f758",
   "metadata": {},
   "source": [
    "### 2) 파일을 쓰기모드로 열어서 내용 쓰기"
   ]
  },
  {
   "cell_type": "code",
   "execution_count": 21,
   "id": "5d520263-e109-4e9b-bacf-6604b1758cd4",
   "metadata": {},
   "outputs": [],
   "source": [
    "f = open('newfile.txt', 'w')\n",
    "for i in range(1,11):\n",
    "    data = f\"{i}번째 줄입니다.\\n\"\n",
    "    f.write(data)\n",
    "f.close()"
   ]
  },
  {
   "cell_type": "markdown",
   "id": "af4833b4-f64f-444e-8131-9caae464388b",
   "metadata": {},
   "source": [
    "### 3) 파일 읽는 여러가지 방법"
   ]
  },
  {
   "cell_type": "code",
   "execution_count": 22,
   "id": "1de2e186-f860-4857-8822-cab816f6f717",
   "metadata": {},
   "outputs": [
    {
     "name": "stdout",
     "output_type": "stream",
     "text": [
      "1번째 줄입니다.\n",
      "\n"
     ]
    }
   ],
   "source": [
    "f = open('newfile.txt', 'r')\n",
    "line = f.readline()\n",
    "print(line)\n",
    "f.close()"
   ]
  },
  {
   "cell_type": "code",
   "execution_count": 23,
   "id": "f152ab0c-20ca-4bea-b274-24a97fce62b7",
   "metadata": {},
   "outputs": [
    {
     "name": "stdout",
     "output_type": "stream",
     "text": [
      "1번째 줄입니다.\n",
      "\n",
      "2번째 줄입니다.\n",
      "\n",
      "3번째 줄입니다.\n",
      "\n",
      "4번째 줄입니다.\n",
      "\n",
      "5번째 줄입니다.\n",
      "\n",
      "6번째 줄입니다.\n",
      "\n",
      "7번째 줄입니다.\n",
      "\n",
      "8번째 줄입니다.\n",
      "\n",
      "9번째 줄입니다.\n",
      "\n",
      "10번째 줄입니다.\n",
      "\n"
     ]
    }
   ],
   "source": [
    "# readline 함수로 여러줄 읽기\n",
    "f = open('newfile.txt', 'r')\n",
    "while True:\n",
    "    line = f.readline()\n",
    "    if not line:\n",
    "        break\n",
    "    print(line)\n",
    "f.close()"
   ]
  },
  {
   "cell_type": "code",
   "execution_count": 24,
   "id": "407b6271-9cdd-4f3f-a4b5-945582f6897b",
   "metadata": {},
   "outputs": [
    {
     "name": "stdin",
     "output_type": "stream",
     "text": [
      " a\n"
     ]
    },
    {
     "name": "stdout",
     "output_type": "stream",
     "text": [
      "a\n"
     ]
    },
    {
     "name": "stdin",
     "output_type": "stream",
     "text": [
      " b\n"
     ]
    },
    {
     "name": "stdout",
     "output_type": "stream",
     "text": [
      "b\n"
     ]
    },
    {
     "name": "stdin",
     "output_type": "stream",
     "text": [
      " c\n"
     ]
    },
    {
     "name": "stdout",
     "output_type": "stream",
     "text": [
      "c\n"
     ]
    },
    {
     "name": "stdin",
     "output_type": "stream",
     "text": [
      " \n"
     ]
    }
   ],
   "source": [
    "# 사용자 입력을 받아서 여러줄 출력하기\n",
    "while True:\n",
    "    data = input()\n",
    "    if not data:\n",
    "        break\n",
    "    print(data)"
   ]
  },
  {
   "cell_type": "code",
   "execution_count": 28,
   "id": "27703333-cfef-46ed-9023-2377db9ee71f",
   "metadata": {},
   "outputs": [
    {
     "name": "stdout",
     "output_type": "stream",
     "text": [
      "['1번째 줄입니다.\\n', '2번째 줄입니다.\\n', '3번째 줄입니다.\\n', '4번째 줄입니다.\\n', '5번째 줄입니다.\\n', '6번째 줄입니다.\\n', '7번째 줄입니다.\\n', '8번째 줄입니다.\\n', '9번째 줄입니다.\\n', '10번째 줄입니다.\\n']\n",
      "--------------------------------------------------\n",
      "1번째 줄입니다.\n",
      "\n",
      "2번째 줄입니다.\n",
      "\n",
      "3번째 줄입니다.\n",
      "\n",
      "4번째 줄입니다.\n",
      "\n",
      "5번째 줄입니다.\n",
      "\n",
      "6번째 줄입니다.\n",
      "\n",
      "7번째 줄입니다.\n",
      "\n",
      "8번째 줄입니다.\n",
      "\n",
      "9번째 줄입니다.\n",
      "\n",
      "10번째 줄입니다.\n",
      "\n"
     ]
    }
   ],
   "source": [
    "# 여러줄 읽는 readlines()\n",
    "f = open('newfile.txt', 'r')\n",
    "lines = f.readlines()\n",
    "print(lines)\n",
    "print('-'*50)\n",
    "for line in lines:\n",
    "    print(line)\n",
    "f.close()"
   ]
  },
  {
   "cell_type": "code",
   "execution_count": 29,
   "id": "3e10eac3-9fb8-4138-8cb6-5e0950c1d365",
   "metadata": {},
   "outputs": [
    {
     "name": "stdout",
     "output_type": "stream",
     "text": [
      "1번째 줄입니다.\n",
      "2번째 줄입니다.\n",
      "3번째 줄입니다.\n",
      "4번째 줄입니다.\n",
      "5번째 줄입니다.\n",
      "6번째 줄입니다.\n",
      "7번째 줄입니다.\n",
      "8번째 줄입니다.\n",
      "9번째 줄입니다.\n",
      "10번째 줄입니다.\n"
     ]
    }
   ],
   "source": [
    "# 줄바꿈(\\n)문자 제거하기\n",
    "f = open('newfile.txt', 'r')\n",
    "lines = f.readlines()\n",
    "for line in lines:\n",
    "    line = line.strip()\n",
    "    print(line)\n",
    "f.close()"
   ]
  },
  {
   "cell_type": "code",
   "execution_count": 30,
   "id": "91971f26-2104-444a-87bd-787af117a31f",
   "metadata": {},
   "outputs": [
    {
     "name": "stdout",
     "output_type": "stream",
     "text": [
      "1번째 줄입니다.\n",
      "2번째 줄입니다.\n",
      "3번째 줄입니다.\n",
      "4번째 줄입니다.\n",
      "5번째 줄입니다.\n",
      "6번째 줄입니다.\n",
      "7번째 줄입니다.\n",
      "8번째 줄입니다.\n",
      "9번째 줄입니다.\n",
      "10번째 줄입니다.\n",
      "\n"
     ]
    }
   ],
   "source": [
    "# read함수로 파일 전체 내용 읽기\n",
    "f = open('newfile.txt', 'r')\n",
    "data = f.read()\n",
    "print(data)\n",
    "f.close()"
   ]
  },
  {
   "cell_type": "code",
   "execution_count": 31,
   "id": "90143037-45d6-454d-a60e-45eefb903b72",
   "metadata": {},
   "outputs": [
    {
     "name": "stdout",
     "output_type": "stream",
     "text": [
      "1번째 줄입니다.\n",
      "\n",
      "2번째 줄입니다.\n",
      "\n",
      "3번째 줄입니다.\n",
      "\n",
      "4번째 줄입니다.\n",
      "\n",
      "5번째 줄입니다.\n",
      "\n",
      "6번째 줄입니다.\n",
      "\n",
      "7번째 줄입니다.\n",
      "\n",
      "8번째 줄입니다.\n",
      "\n",
      "9번째 줄입니다.\n",
      "\n",
      "10번째 줄입니다.\n",
      "\n"
     ]
    }
   ],
   "source": [
    "# 파일 객체를 for문으로 줄단위로 읽기\n",
    "f = open('newfile.txt', 'r')\n",
    "for line in f:\n",
    "    print(line)\n",
    "f.close()"
   ]
  },
  {
   "cell_type": "markdown",
   "id": "bb94c5cb-130e-4627-a3a5-2fafd68626ac",
   "metadata": {},
   "source": [
    "### 4) 파일에 새로운 내용 추가"
   ]
  },
  {
   "cell_type": "code",
   "execution_count": 32,
   "id": "d7bd1098-e171-4a1f-a793-5a4b7dde7e11",
   "metadata": {},
   "outputs": [],
   "source": [
    "f= open('newfile.txt', 'a')\n",
    "for i in range(11,20):\n",
    "    data = f\"{i}번째 줄을 추가합니다.\\n\"\n",
    "    f.write(data)\n",
    "f.close()"
   ]
  },
  {
   "cell_type": "markdown",
   "id": "b8e3f34e-ebff-4466-b759-8eccda5c1493",
   "metadata": {},
   "source": [
    "### 5) with문과 함께 사용하기"
   ]
  },
  {
   "cell_type": "code",
   "execution_count": 33,
   "id": "b64637dc-185f-4d9c-8e0c-e4a53bff1658",
   "metadata": {},
   "outputs": [],
   "source": [
    "with open('foo.txt','w') as f:\n",
    "    f.write(\"Life is too short, you need python!\")"
   ]
  },
  {
   "cell_type": "code",
   "execution_count": null,
   "id": "b26a6957-b4cc-4cd6-ac0c-58ebb58d750c",
   "metadata": {},
   "outputs": [],
   "source": []
  }
 ],
 "metadata": {
  "kernelspec": {
   "display_name": "Python 3 (ipykernel)",
   "language": "python",
   "name": "python3"
  },
  "language_info": {
   "codemirror_mode": {
    "name": "ipython",
    "version": 3
   },
   "file_extension": ".py",
   "mimetype": "text/x-python",
   "name": "python",
   "nbconvert_exporter": "python",
   "pygments_lexer": "ipython3",
   "version": "3.13.5"
  }
 },
 "nbformat": 4,
 "nbformat_minor": 5
}
